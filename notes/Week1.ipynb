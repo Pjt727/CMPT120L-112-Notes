{
 "cells": [
  {
   "cell_type": "code",
   "execution_count": null,
   "metadata": {},
   "outputs": [],
   "source": [
    "def main():\n",
    "    user_name = input(\"What is your name? \")\n",
    "    print(f\"Hello, {user_name}!\")\n",
    "\n",
    "main()"
   ]
  },
  {
   "cell_type": "markdown",
   "metadata": {},
   "source": [
    "# def\n",
    "keyword \n",
    "reserved word\n",
    "\n",
    "# known vocab\n",
    "operator\n",
    "literal values\n",
    "brackets\n",
    "identifier\n"
   ]
  }
 ],
 "metadata": {
  "kernelspec": {
   "display_name": "Python 3.9.11 64-bit",
   "language": "python",
   "name": "python3"
  },
  "language_info": {
   "name": "python",
   "version": "3.9.10"
  },
  "orig_nbformat": 4,
  "vscode": {
   "interpreter": {
    "hash": "20fa2af333d61bd6339f7e47817f9d242eaf57d6d8e63aa20e75305fa52356f8"
   }
  }
 },
 "nbformat": 4,
 "nbformat_minor": 2
}
