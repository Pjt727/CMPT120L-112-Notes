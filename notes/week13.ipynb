{
 "cells": [
  {
   "cell_type": "markdown",
   "metadata": {},
   "source": [
    "# Error Handling"
   ]
  },
  {
   "cell_type": "code",
   "execution_count": null,
   "metadata": {},
   "outputs": [],
   "source": [
    "from __future__ import annotations\n",
    "# class structure\n",
    "from math import gcd\n",
    "# Adds type annotation within the scope of the class\n",
    "\n",
    "\n",
    "class Fraction:\n",
    "    def __init__(self, denom: int, numer: int):\n",
    "        if denom == 0:\n",
    "            raise ValueError(\"denominator can not be 0\") ## raies a ValueError with your own message\n",
    "        self.denom = denom\n",
    "        self.numer = numer\n",
    "    \n",
    "    def reduce(self) -> None:\n",
    "        g = gcd(self.numer, self.denom)\n",
    "        self.numer //= g\n",
    "        self.denom //= g\n",
    "    \n",
    "    def __add__(self, addend: Fraction) -> Fraction:\n",
    "        '''Dunder method for operating with the '+' sign'''\n",
    "\n",
    "        sum = Fraction(self.numer*addend.denom + addend.numer*self.denom, self.denom*addend.denom)\n",
    "        sum.reduce()\n",
    "        return sum\n",
    "    \n",
    "    def __mul__(self, multiplier: Fraction) -> Fraction:\n",
    "        '''Dunder method for operating with the '*' sign'''\n",
    "        product = Fraction(self.numer*multiplier.numer, self.denom*multiplier.denom)\n",
    "        product.reduce()\n",
    "        return product\n",
    "\n",
    "    # Python goes to this function or __repr__ when converting your object to str when\n",
    "    #   doing something like a print statement\n",
    "    def __str__(self) -> str:\n",
    "        return f'{self.numer}/{self.denom}'\n",
    "\n",
    "\n",
    "def main():\n",
    "    # type annotations are redundant here\n",
    "    frac1 = Fraction(numer=8, denom=6)\n",
    "\n",
    "    user_input: str = input(\"Please enter a numerator and denominator (separated by space): \")\n",
    "\n",
    "    try:\n",
    "        a, b = user_input.split()\n",
    "        frac2 = Fraction(denom=int(a), numer=int(b))\n",
    "        print('Addition:', frac1 + frac2)\n",
    "        print('Multiplication:', frac1 * frac2)\n",
    "    except TypeError as err: \n",
    "        print(err)\n",
    "    except ValueError as err: # gets the value error object and stories it to a variable\n",
    "        print(err) # could deal with str of err differently if needed\n",
    "\n",
    "if __name__ == '__main__':\n",
    "    main()\n"
   ]
  },
  {
   "cell_type": "code",
   "execution_count": 4,
   "metadata": {},
   "outputs": [
    {
     "name": "stdout",
     "output_type": "stream",
     "text": [
      "Matthew[0, None]\n",
      "Matthew[0, Computer science]\n"
     ]
    }
   ],
   "source": [
    "# Final class example for drawing memory diagrams \n",
    "# (I am not going to paste any python tutor frames here but copy the code and paste it into python tutor)\n",
    "\n",
    "class Student():\n",
    "    LAST_CWID = 0\n",
    "\n",
    "    def __init__(self, name, major: str = None) -> None:\n",
    "        self.name = name\n",
    "        Student.LAST_CWID += 1\n",
    "        self.cwid = Student.LAST_CWID\n",
    "        if major is not None:\n",
    "            major = major.capitalize()\n",
    "        self.major = major\n",
    "\n",
    "    def __str__(self) -> str:\n",
    "        return f\"{self.name}[{self.cwid}, {self.major}]\"\n",
    "    \n",
    "    def change_major(self, new_major: str):\n",
    "        self.major = new_major.capitalize()\n",
    "    \n",
    "    def has_declared(self):\n",
    "        return self.major != \"Undeclared\" and self.major is not None\n",
    "\n",
    "def main():\n",
    "    stu = Student('Matthew')\n",
    "    print(stu)\n",
    "\n",
    "    stu.change_major(\"computer science\")\n",
    "\n",
    "    if stu.has_declared():\n",
    "        print(stu)\n",
    "\n",
    "\n",
    "main()"
   ]
  },
  {
   "cell_type": "markdown",
   "metadata": {},
   "source": [
    "- You need only write the left side of the class object rectangle\n",
    "- You sohuld write the entire student instace including the values for the variables"
   ]
  }
 ],
 "metadata": {
  "kernelspec": {
   "display_name": "Python 3.10.8 64-bit (microsoft store)",
   "language": "python",
   "name": "python3"
  },
  "language_info": {
   "codemirror_mode": {
    "name": "ipython",
    "version": 3
   },
   "file_extension": ".py",
   "mimetype": "text/x-python",
   "name": "python",
   "nbconvert_exporter": "python",
   "pygments_lexer": "ipython3",
   "version": "3.10.8"
  },
  "orig_nbformat": 4,
  "vscode": {
   "interpreter": {
    "hash": "625a3d0f38ae3cd6f01b852555a2f86928866471dc29ce2b23ca961ca5a13cee"
   }
  }
 },
 "nbformat": 4,
 "nbformat_minor": 2
}
