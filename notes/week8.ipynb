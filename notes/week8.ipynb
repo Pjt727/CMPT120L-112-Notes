{
 "cells": [
  {
   "cell_type": "markdown",
   "metadata": {},
   "source": [
    "### Racquetball Simulation\n",
    "- simulate many games of racquetball\n",
    "- report the outcome\n",
    "- two players\n",
    "- alternate serve\n",
    "- probability to win serve\n",
    "\n",
    "\n",
    "The following is my code on how I would simulate the game. The textbook's code is class GitHub.\n",
    "\n",
    "I wrote it using classes and methods which we have not covered in class. Still, it generally follows the same outline as the textbook's codes\n",
    "\n",
    "There are a couple of problems with how I wrote it.\n",
    "- it would be expensive to change how gets to serve first in a game\n",
    "    - would need to create a new game object when you only are changing that variable \n",
    "- the point function probably could be written a bit cleaner"
   ]
  },
  {
   "cell_type": "code",
   "execution_count": 8,
   "metadata": {},
   "outputs": [
    {
     "name": "stdout",
     "output_type": "stream",
     "text": [
      "Player 1 won 72 and Player 2 won 28 after 100 games.\n"
     ]
    }
   ],
   "source": [
    "from random import random\n",
    "\n",
    "# Player 1 winning will return a Truth value for winning games\n",
    "class Game:\n",
    "    def __init__(self, player_1_prob_serve: float, player_2_prob_serve: float, first_serve: int, game_end: int = 15):\n",
    "        self.player_1_prob_serve: float = player_1_prob_serve\n",
    "        self.player_2_prob_serve: float = player_2_prob_serve\n",
    "\n",
    "        self.serve: int = first_serve\n",
    "        self.game_end: int = game_end\n",
    "\n",
    "    def play_game(self) -> bool:\n",
    "        player_1_count = 0\n",
    "        player_2_count = 0\n",
    "\n",
    "        while not (player_1_count == self.game_end or player_2_count == self.game_end):\n",
    "            player_1_win: bool = self.point()\n",
    "            if player_1_win:\n",
    "                player_1_count += 1\n",
    "                continue\n",
    "            player_2_count += 1\n",
    "\n",
    "        return player_1_count == 15\n",
    "\n",
    "    # Returns True when player 1 wins and false when player 2 wins\n",
    "    def point(self) -> bool:\n",
    "        outcome = random()\n",
    "        if self.serve == 1:\n",
    "            win_1: bool = self.player_1_prob_serve >= outcome\n",
    "            if not win_1: self.serve = 2\n",
    "            return win_1\n",
    "        win_2: bool = self.player_2_prob_serve >= outcome\n",
    "        if not win_2: self.serve = 1\n",
    "        return not win_2\n",
    "\n",
    "def main() -> None:\n",
    "    first_serve: int = int(input('Enter which player to serve first (\"1\" or \"2\"'))\n",
    "    number_of_games: int = int(input('Enter how many games you want to simulate'))\n",
    "\n",
    "    player_1_prob_serve: float = float(input('Enter probability of player 1 to win on server'))\n",
    "    player_2_prob_serve: float = float(input('Enter probability of player 2 to win on server'))\n",
    "\n",
    "    player_1_games = 0\n",
    "    player_2_games = 0\n",
    "\n",
    "    game = Game(player_1_prob_serve, player_2_prob_serve, first_serve)\n",
    "\n",
    "    for i in range(number_of_games):\n",
    "        if game.play_game():\n",
    "            player_1_games += 1\n",
    "            continue\n",
    "        player_2_games += 1\n",
    "\n",
    "    print(f\"Player 1 won {player_1_games} and Player 2 won {player_2_games} after {number_of_games} games.\") \n",
    "\n",
    "if __name__ == '__main__': main()"
   ]
  },
  {
   "cell_type": "code",
   "execution_count": null,
   "metadata": {},
   "outputs": [],
   "source": []
  }
 ],
 "metadata": {
  "kernelspec": {
   "display_name": "Python 3.10.8 64-bit (microsoft store)",
   "language": "python",
   "name": "python3"
  },
  "language_info": {
   "codemirror_mode": {
    "name": "ipython",
    "version": 3
   },
   "file_extension": ".py",
   "mimetype": "text/x-python",
   "name": "python",
   "nbconvert_exporter": "python",
   "pygments_lexer": "ipython3",
   "version": "3.10.8"
  },
  "orig_nbformat": 4,
  "vscode": {
   "interpreter": {
    "hash": "625a3d0f38ae3cd6f01b852555a2f86928866471dc29ce2b23ca961ca5a13cee"
   }
  }
 },
 "nbformat": 4,
 "nbformat_minor": 2
}
