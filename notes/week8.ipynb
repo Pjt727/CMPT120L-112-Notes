{
 "cells": [
  {
   "cell_type": "markdown",
   "metadata": {},
   "source": [
    "### Racquetball Simulation\n",
    "- simulate many games of racquetball\n",
    "- report the outcome\n",
    "- two players\n",
    "- alternate serve\n",
    "- probability to win serve\n",
    "\n",
    "\n",
    "The following is my code on how I would simulate the game. The textbook's code is class GitHub.\n",
    "\n",
    "I wrote it using classes and methods which we have not covered in class. Still, it generally follows the same outline as the textbook's codes\n",
    "\n",
    "There are a couple of problems with how I wrote it.\n",
    "- it would be expensive to change how gets to serve first in a game\n",
    "    - would need to create a new game object when you only are changing that variable \n",
    "- the point function probably could be written a bit cleaner"
   ]
  },
  {
   "cell_type": "code",
   "execution_count": 8,
   "metadata": {},
   "outputs": [
    {
     "name": "stdout",
     "output_type": "stream",
     "text": [
      "Player 1 won 72 and Player 2 won 28 after 100 games.\n"
     ]
    }
   ],
   "source": [
    "from random import random\n",
    "\n",
    "# Player 1 winning will return a Truth value for winning games\n",
    "class Game:\n",
    "    def __init__(self, player_1_prob_serve: float, player_2_prob_serve: float, first_serve: int, game_end: int = 15):\n",
    "        self.player_1_prob_serve: float = player_1_prob_serve\n",
    "        self.player_2_prob_serve: float = player_2_prob_serve\n",
    "\n",
    "        self.serve: int = first_serve\n",
    "        self.game_end: int = game_end\n",
    "\n",
    "    def play_game(self) -> bool:\n",
    "        player_1_count = 0\n",
    "        player_2_count = 0\n",
    "\n",
    "        while not (player_1_count == self.game_end or player_2_count == self.game_end):\n",
    "            player_1_win: bool = self.point()\n",
    "            if player_1_win:\n",
    "                player_1_count += 1\n",
    "                continue\n",
    "            player_2_count += 1\n",
    "\n",
    "        return player_1_count == 15\n",
    "\n",
    "    # Returns True when player 1 wins and false when player 2 wins\n",
    "    def point(self) -> bool:\n",
    "        outcome = random()\n",
    "        if self.serve == 1:\n",
    "            win_1: bool = self.player_1_prob_serve >= outcome\n",
    "            if not win_1: self.serve = 2\n",
    "            return win_1\n",
    "        win_2: bool = self.player_2_prob_serve >= outcome\n",
    "        if not win_2: self.serve = 1\n",
    "        return not win_2\n",
    "\n",
    "def main() -> None:\n",
    "    first_serve: int = int(input('Enter which player to serve first (\"1\" or \"2\"'))\n",
    "    number_of_games: int = int(input('Enter how many games you want to simulate'))\n",
    "\n",
    "    player_1_prob_serve: float = float(input('Enter probability of player 1 to win on server'))\n",
    "    player_2_prob_serve: float = float(input('Enter probability of player 2 to win on server'))\n",
    "\n",
    "    player_1_games = 0\n",
    "    player_2_games = 0\n",
    "\n",
    "    game = Game(player_1_prob_serve, player_2_prob_serve, first_serve)\n",
    "\n",
    "    for i in range(number_of_games):\n",
    "        if game.play_game():\n",
    "            player_1_games += 1\n",
    "            continue\n",
    "        player_2_games += 1\n",
    "\n",
    "    print(f\"Player 1 won {player_1_games} and Player 2 won {player_2_games} after {number_of_games} games.\") \n",
    "\n",
    "if __name__ == '__main__': main()"
   ]
  },
  {
   "cell_type": "markdown",
   "metadata": {},
   "source": [
    "## Review of List\n",
    "- stores a sequence of objects as an element\n",
    "    - ordered\n",
    "- heterogeneous\n",
    "- dynamically sized\n",
    "- mutable\n",
    "- iterable"
   ]
  },
  {
   "cell_type": "markdown",
   "metadata": {},
   "source": [
    "## Dictionary\n",
    "- collection of key-value pairs\n",
    "- heterogeneous\n",
    "- still ordered in modern Python\n",
    "    - sequenced in the order it was added to the dictionary\n",
    "- dynamically-sized\n",
    "- mutable (values at a a given key can be changed)\n",
    "    - keys can only be added an removed\n",
    "- iterable\n",
    "- each key is unique but values are not unique"
   ]
  },
  {
   "cell_type": "code",
   "execution_count": 1,
   "metadata": {},
   "outputs": [
    {
     "name": "stdout",
     "output_type": "stream",
     "text": [
      "{1: 'some value', 2: 'some value', 3: 'some value', 4: 'some value', 5: 'some value', 6: 'some value', 7: 'some value', 8: 'some value', 9: 'some value', 10: 'some value', 11: 'some value', 12: 'some value', 13: 'some value', 14: 'some value', 15: 'some value', 16: 'some value', 17: 'some value', 18: 'some value', 19: 'some value', 20: 'some value', 21: 'some value', 22: 'some value', 23: 'some value', 24: 'some value', 25: 'some value', 26: 'some value', 27: 'some value', 28: 'some value', 29: 'some value', 30: 'some value', 31: 'some value', 32: 'some value', 33: 'some value', 34: 'some value', 35: 'some value', 36: 'some value', 37: 'some value', 38: 'some value', 39: 'some value', 40: 'some value', 41: 'some value', 42: 'some value', 43: 'some value', 44: 'some value', 45: 'some value', 46: 'some value', 47: 'some value', 48: 'some value', 49: 'some value', 50: 'some value', 51: 'some value', 52: 'some value'}\n"
     ]
    }
   ],
   "source": [
    "# Student Question\n",
    "\n",
    "number_dict: dict = {}\n",
    "\n",
    "for i in range(1,53):\n",
    "    number_dict[i] = 'some value'\n",
    "\n",
    "print(number_dict)"
   ]
  },
  {
   "cell_type": "code",
   "execution_count": 7,
   "metadata": {},
   "outputs": [
    {
     "name": "stdout",
     "output_type": "stream",
     "text": [
      "{1: 'some value', 2: 'some value', 3: 'some value', 4: 'some value', 5: 'some value', 6: 'some value', 7: 'some value', 8: 'some value', 9: 'some value', 10: 'some value', 11: 'some value', 12: 'some value', 13: 'some value', 14: 'some value', 15: 'some value', 16: 'some value', 17: 'some value', 18: 'some value', 19: 'some value', 20: 'some value', 21: 'some value', 22: 'some value', 23: 'some value', 24: 'some value', 25: 'some value', 26: 'some value', 27: 'some value', 28: 'some value', 29: 'some value', 30: 'some value', 31: 'some value', 32: 'some value', 33: 'some value', 34: 'some value', 35: 'some value', 36: 'some value', 37: 'some value', 38: 'some value', 39: 'some value', 40: 'some value', 41: 'some value', 42: 'some value', 43: 'some value', 44: 'some value', 45: 'some value', 46: 'some value', 47: 'some value', 48: 'some value', 49: 'some value', 50: 'some value', 51: 'some value', 52: 'some value'}\n"
     ]
    }
   ],
   "source": [
    "number_dict = dict(zip(range(1,53),['some value']*52))\n",
    "print(number_dict)"
   ]
  },
  {
   "cell_type": "code",
   "execution_count": 4,
   "metadata": {},
   "outputs": [
    {
     "name": "stdout",
     "output_type": "stream",
     "text": [
      "[1, 2, 3, 4, 5, 6, 7, 8, 9, 10, 11, 12, 13, 14, 15, 16, 17, 18, 19, 20, 21, 22, 23, 24, 25, 26, 27, 28, 29, 30, 31, 32, 33, 34, 35, 36, 37, 38, 39, 40, 41, 42, 43, 44, 45, 46, 47, 48, 49, 50, 51, 52]\n"
     ]
    }
   ],
   "source": [
    "# making a list of nums 1-52\n",
    "nums_list: list = list(range(1,53))\n",
    "print(nums_list)"
   ]
  },
  {
   "cell_type": "markdown",
   "metadata": {},
   "source": [
    "## Tuples\n",
    "- stores a sequence of objects as an element\n",
    "    - ordered\n",
    "- heterogeneous\n",
    "- **fixed-size**\n",
    "- **immutable**\n",
    "- iterable"
   ]
  },
  {
   "cell_type": "code",
   "execution_count": null,
   "metadata": {},
   "outputs": [],
   "source": [
    "# Returning a Tuple\n",
    "def find_elem(e, es):\n",
    "    for i in range(len(es)):\n",
    "        if es[i] is e:\n",
    "            return i, True\n",
    "    return None, False\n",
    "\n",
    "def find_elem_one_return(e, es):\n",
    "    e_pos = None\n",
    "    found = False\n",
    "    for i in range(len(es)):\n",
    "        if es[i] is e:\n",
    "            e_pos = i\n",
    "            found = True\n",
    "            break\n",
    "    return e_pos, found"
   ]
  },
  {
   "cell_type": "code",
   "execution_count": null,
   "metadata": {},
   "outputs": [],
   "source": [
    "# Tuple, List, and Dictionary exmaple\n",
    "\n",
    "pair_of_Vals: tuple[int, bool] = 5, True\n",
    "list_of_vals: list[int] = [2, 4, 6, 10]\n",
    "map_of_keys_to_vals: dict[str, str] = {\n",
    "    \"ant\": \"insect\",\n",
    "    \"bear\": \"mammal\",\n",
    "    \"cat\": \"mammal\"\n",
    "}\n",
    "\n"
   ]
  },
  {
   "cell_type": "code",
   "execution_count": null,
   "metadata": {},
   "outputs": [],
   "source": [
    "# List of lists\n",
    "# 2D list/ martix\n",
    "list_of_lists: list[list[int]] = [\n",
    "    [1, 2, 3],\n",
    "    [4, 5, 6],\n",
    "    [7, 8, 9]\n",
    "]\n",
    "\n",
    "grid_map: list[list[str]] = [\n",
    "    [\"grass\", \"dirt\", \"dirt\", \"dirt\", \"wall\"]\n",
    "    [\"grass\", \"dirt\", \"dirt\", \"dirt\", \"water\"]\n",
    "    [\"grass\", \"dirt\", \"dirt\", \"water\", \"water\"]\n",
    "    [\"grass\", \"dirt\", \"dirt\", \"sand\", \"water\"]\n",
    "    [\"wall\", \"dirt\", \"dirt\", \"dirt\", \"sand\"]\n",
    "]\n",
    "\n",
    "# 1 elements 1 row\n",
    "print(grid_map[0][0])"
   ]
  },
  {
   "cell_type": "code",
   "execution_count": null,
   "metadata": {},
   "outputs": [],
   "source": [
    "# Tic-tac-toe and draft top-down design\n",
    "board: list[list[str]] = [\n",
    "    ['x', 'o', 'o'],\n",
    "    ['o', 'x', 'x'],\n",
    "    ['x', 'o', 'o']\n",
    "]\n",
    "\n",
    "def mark_cell(i: int, j: int, board: list[list[int]], player_num: int) -> None:\n",
    "    if player_num == 1:\n",
    "        mark = 'x'\n",
    "    else:\n",
    "        mark = 'o'\n",
    "    board[i][j]\n",
    "\n",
    "\n",
    "def check_space(i: int, j: int, board: list[list[int]]) -> bool:\n",
    "    pass\n",
    "\n",
    "def check_win(board: list[list[int]]) -> bool:\n",
    "    pass\n",
    "\n",
    "def get_input() -> tuple(int, int):\n",
    "    pass\n",
    "\n",
    "def change_player_num(player_num: int) -> int:\n",
    "    pass\n",
    "\n",
    "def game():\n",
    "    while not check_win(board):\n",
    "        get_input()\n",
    "        if check_space():\n",
    "            mark_cell()\n",
    "            change_player_num()"
   ]
  },
  {
   "cell_type": "markdown",
   "metadata": {},
   "source": [
    "## Adjaceny martix\n",
    "- Example from wikipedia\n",
    "![alternative text](assets/adj_matrix.png)"
   ]
  },
  {
   "cell_type": "code",
   "execution_count": null,
   "metadata": {},
   "outputs": [],
   "source": [
    "# representing this in python\n",
    "\n",
    "\n",
    "## Every value is a bool of whether or not the node is connected to another node\n",
    "adj_matrix: tuple[tuple[bool]] = (\n",
    "    # The node it may or may not be connected to\n",
    "    #  1      2      3      4      5      6\n",
    "                                                #  each node \n",
    "    ( True,  True, False, False,  True, False), # 1\n",
    "    ( True, False,  True, False,  True, False), # 2\n",
    "    (False,  True, False,  True, False, False), # 3\n",
    "    (False, False,  True, False,  True,  True), # 4\n",
    "    ( True,  True, False,  True, False, False), # 5\n",
    "    (False, False, False,  True, False, False)  # 6\n",
    ")"
   ]
  },
  {
   "cell_type": "code",
   "execution_count": null,
   "metadata": {},
   "outputs": [],
   "source": [
    "# ex of implementinng this into the game\n",
    "\n",
    "from types import NoneType\n",
    "\n",
    "\n",
    "directions: dict[str, int] = {\n",
    "    'north': 0,\n",
    "    'east': 1,\n",
    "    'south': 2,\n",
    "    'west': 3\n",
    "}\n",
    "\n",
    "\n",
    "def move_index(index: int, direction: str) -> int:\n",
    "    global directions\n",
    "    global places\n",
    "    global places_map\n",
    "    try:\n",
    "        return places.index(places_map[index][directions[direction]])\n",
    "    except KeyError:\n",
    "        return index\n",
    "    \n",
    "\n",
    "\n",
    "places: list[dict] = []\n",
    "\n",
    "beach: dict = {\n",
    "    'name':'Beach',\n",
    "    'sum':'blah',\n",
    "    'desc':'blah blah blah'\n",
    "}\n",
    "places.append(beach)\n",
    "\n",
    "jungle: dict = {\n",
    "    'name':'Jungle',\n",
    "    'sum':'blah',\n",
    "    'desc':'blah blah blah'\n",
    "}\n",
    "places.append(jungle)\n",
    "\n",
    "# idk if these type annotations are correct\n",
    "places_map: tuple[dict and NoneType] = (\n",
    "    # n     e     s       w\n",
    "    ( None, None, jungle, None), # the beach\n",
    "    (beach, None,   None, None)  # the jungle\n",
    ")\n",
    "\n",
    "# dealing with changing position\n",
    "cur_place_index = 0\n",
    "cur_place_index = move_index(cur_place_index, 'south')\n",
    "\n",
    "# Implementation will probably be a little different in the game but this is a general rule"
   ]
  }
 ],
 "metadata": {
  "kernelspec": {
   "display_name": "Python 3.10.8 64-bit (microsoft store)",
   "language": "python",
   "name": "python3"
  },
  "language_info": {
   "codemirror_mode": {
    "name": "ipython",
    "version": 3
   },
   "file_extension": ".py",
   "mimetype": "text/x-python",
   "name": "python",
   "nbconvert_exporter": "python",
   "pygments_lexer": "ipython3",
   "version": "3.10.8"
  },
  "orig_nbformat": 4,
  "vscode": {
   "interpreter": {
    "hash": "625a3d0f38ae3cd6f01b852555a2f86928866471dc29ce2b23ca961ca5a13cee"
   }
  }
 },
 "nbformat": 4,
 "nbformat_minor": 2
}
