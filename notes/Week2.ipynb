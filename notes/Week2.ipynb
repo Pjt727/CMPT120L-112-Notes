{
 "cells": [
  {
   "cell_type": "markdown",
   "metadata": {},
   "source": [
    "# Computer\n",
    "A Machine that stores and manipulates data under the control of a changeable program.\n",
    "\n",
    "# Bit and Bytes\n",
    "\n",
    "\n",
    "10mbps: Mega-bit per second\n",
    "\n",
    "120MB: Mega-bytes\n",
    "\n",
    "\n",
    "KB - Kilobyte 10^3\n",
    "\n",
    "MB - Mega 10^6\n",
    "\n",
    "GB - Giga 10^9\n",
    "\n",
    "TB - Tera 10^12\n",
    "\n",
    "PB - Peta 10^15\n",
    "\n",
    "#### Numbers\n",
    "Sign bits\n",
    "\n",
    "NaN = not a number\n",
    "\n",
    "###### Floating-Point\n",
    "sign, Expon, Mantissa, etc\n",
    "\n",
    "# Hardware\n",
    "Transport, processing, storage, input, output\n",
    "\n",
    "Power Supply, cooling, main board, BUS, CPU, GPU, RAM, secondary storage, input and output devices.\n",
    "\n",
    "# Software\n",
    "OS, Hardware Drivers, application software\n",
    "\n",
    "# data vs information\n",
    "#### data\n",
    "raw measurment or obsevation\n",
    "#### information\n",
    "data in addition to the context it was measured/ observed"
   ]
  }
 ],
 "metadata": {
  "kernelspec": {
   "display_name": "Python 3.9.10 64-bit",
   "language": "python",
   "name": "python3"
  },
  "language_info": {
   "name": "python",
   "version": "3.9.10"
  },
  "orig_nbformat": 4,
  "vscode": {
   "interpreter": {
    "hash": "20fa2af333d61bd6339f7e47817f9d242eaf57d6d8e63aa20e75305fa52356f8"
   }
  }
 },
 "nbformat": 4,
 "nbformat_minor": 2
}
