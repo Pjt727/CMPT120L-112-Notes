{
 "cells": [
  {
   "cell_type": "markdown",
   "metadata": {},
   "source": [
    "# Binarary versus decimal (#22)\n",
    "- 1101011 --> 107\n",
    "- 97 --> 1100001\n",
    "- a leading 1 is denotes a negative value while a leading 0 represents positive value\n",
    "\n",
    "# Keywords\n",
    "- break\n",
    "- def\n",
    "- elif\n",
    "- class\n",
    "- return\n",
    "- global\n",
    "- not\n",
    "- in\n",
    "- for\n",
    "- while\n",
    "\n",
    "# Memory Diagrams\n",
    "- remeber that local memory frames go away after being returned"
   ]
  },
  {
   "cell_type": "code",
   "execution_count": 5,
   "metadata": {},
   "outputs": [
    {
     "name": "stdout",
     "output_type": "stream",
     "text": [
      "spar\n",
      "gvar\n"
     ]
    }
   ],
   "source": [
    "# 29 - return 'spar' as slice of word \n",
    "word = 'asparagus'\n",
    "print(word[1:5])\n",
    "\n",
    "print('g','var', sep ='')"
   ]
  },
  {
   "cell_type": "code",
   "execution_count": 8,
   "metadata": {},
   "outputs": [
    {
     "name": "stdout",
     "output_type": "stream",
     "text": [
      "THe highest score is 97\n"
     ]
    }
   ],
   "source": [
    "# Sample Program #1\n",
    "import math\n",
    "\n",
    "def maxOf(nums):\n",
    "    maxSoFar = -math.inf\n",
    "    for i in range(len(nums)):\n",
    "        nextNum = nums[i]\n",
    "        if nextNum > maxSoFar:\n",
    "            maxSoFar = nextNum\n",
    "    return maxSoFar\n",
    "\n",
    "scores = [84, 66, 92, 71, 97]\n",
    "\n",
    "print(\"The highest score is\", maxOf(scores))"
   ]
  },
  {
   "cell_type": "code",
   "execution_count": null,
   "metadata": {},
   "outputs": [],
   "source": [
    "#Sample program #2\n",
    "def countEvens(nums):\n",
    "    numEvens = 0\n",
    "    for n in nums:\n",
    "        if n % 2 == 0:\n",
    "            numEvens = numEvens + 1\n",
    "    return numEvens\n",
    "\n",
    "def hasEvens(nums):\n",
    "    return countEvens > 0\n",
    "\n",
    "\n",
    "measurements = [7,4,1,2,8]\n",
    "result = hasEvens(measurements)\n",
    "if result:\n",
    "    print(\"The list contains even numbers.\")\n",
    "else:\n",
    "    print('The list contains only odd numbers.')"
   ]
  }
 ],
 "metadata": {
  "kernelspec": {
   "display_name": "Python 3.10.7 64-bit",
   "language": "python",
   "name": "python3"
  },
  "language_info": {
   "codemirror_mode": {
    "name": "ipython",
    "version": 3
   },
   "file_extension": ".py",
   "mimetype": "text/x-python",
   "name": "python",
   "nbconvert_exporter": "python",
   "pygments_lexer": "ipython3",
   "version": "3.10.7"
  },
  "orig_nbformat": 4,
  "vscode": {
   "interpreter": {
    "hash": "eff942ea804e64611ec727e9e887df9ba32f2144063f751702157502d5c8aaa0"
   }
  }
 },
 "nbformat": 4,
 "nbformat_minor": 2
}
