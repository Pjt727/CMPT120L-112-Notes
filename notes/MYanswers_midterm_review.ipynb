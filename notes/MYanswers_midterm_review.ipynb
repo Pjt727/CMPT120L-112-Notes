{
 "cells": [
  {
   "cell_type": "markdown",
   "metadata": {},
   "source": [
    "# Disclaimer\n",
    "These are my answers for the test review. They may be wrong or most not fully correct. If I am not at least ~95% sure on my answer I will star it."
   ]
  },
  {
   "cell_type": "markdown",
   "metadata": {},
   "source": [
    "1. A __________ is a machine that stores and manipulates data under the control of a changeable program.\n",
    "- **computer**"
   ]
  },
  {
   "cell_type": "markdown",
   "metadata": {},
   "source": [
    "2. The process of creating software is known as ___________.\n",
    "- **programming**"
   ]
  },
  {
   "cell_type": "markdown",
   "metadata": {},
   "source": [
    "![alternative text](assets/prac_test/3.png)\n",
    "- **This is not going to be on the test**\n",
    "(a-c are interchangeable and sometimes called other things)\n",
    "\n",
    "a. input device\n",
    "b. memory\n",
    "c. output\n",
    "\n",
    "d. - bus"
   ]
  },
  {
   "cell_type": "markdown",
   "metadata": {},
   "source": [
    "4. Which of the following best describes the field of *Computer Science*?\n",
    "\n",
    "A) - The study of what processes can be described using a computer."
   ]
  },
  {
   "cell_type": "markdown",
   "metadata": {},
   "source": [
    "5. Give one example each of hardware and software.\n",
    "\n",
    "(I gave more than one)\n",
    "\n",
    "- *hardware*\n",
    "    - monitor\n",
    "    - keyboard\n",
    "    - mouse\n",
    "    - disk\n",
    "    - CPU\n",
    "\n",
    "- *software*\n",
    "    - Excel\n",
    "    - Word\n",
    "    - File explore\n",
    "    - CMD\n",
    "    - Chrome"
   ]
  },
  {
   "cell_type": "markdown",
   "metadata": {},
   "source": [
    "6. List the four missing stages in the traditional *software development life cycle*.\n",
    "\n",
    "(I do not remember this being talked about it class so it *might* not be on the test)\n",
    "\n",
    "(I am also not sure of this order because most online resources have do not have testing & debugging fifth)\n",
    "\n",
    "1) *Problem analysis*\n",
    "\n",
    "2) ***Software Design***\n",
    "\n",
    "3) ***Software Development / Implementation***\n",
    "\n",
    "5?) ?????\n",
    "\n",
    "5?) *Testing & debugging*\n",
    "\n",
    "6) ***Deployment***"
   ]
  },
  {
   "cell_type": "markdown",
   "metadata": {},
   "source": [
    "7. Is Python a *high-level* language or a *low-level* language? Explain your answer.\n",
    "\n",
    "Python is a high level language because the code is heavily abstracted from machine language. This means that good Python code can be read almost like a sentence."
   ]
  },
  {
   "cell_type": "markdown",
   "metadata": {},
   "source": [
    "8. Briefly explain the difference between *compilation* versus *interpretation*.\n",
    "\n",
    "Languages can be compiled or interpreted (in some cases both depending on how they are used). When a compiled program runs its code, all of the lines must be converted to machine language before any code is ran. However, in an interpreted program, the code is converted to machine language while executing each line. There are various consequences and advantages for each. "
   ]
  },
  {
   "cell_type": "markdown",
   "metadata": {},
   "source": [
    "9. Circle all *valid* Python *identifiers* in the list below.\n",
    "\n",
    "- valid\n",
    "    - cat\n",
    "    - global\n",
    "    - curr_loc\n",
    "    - location7\n",
    "    - PersonCount\n",
    "\n",
    "- invalid\n",
    "    - grade-list (can't have a dash in identifier name)\n",
    "    - 5thElem (can't have a digit starting identifier name)"
   ]
  },
  {
   "cell_type": "code",
   "execution_count": null,
   "metadata": {},
   "outputs": [],
   "source": [
    "# Your IDE will probably catch these mistake\n",
    "\n",
    "grade-list = \"some literal\"\n",
    "\n",
    "5thElem = \"some literal\""
   ]
  },
  {
   "cell_type": "markdown",
   "metadata": {},
   "source": [
    "10. Which <u>one</u> of the following is <u>not</u> a reserved word in Python?\n",
    "\n",
    "c) main\n",
    "\n",
    "Although main is often used to define the main function of a program it is not reserved by python for any special propose."
   ]
  },
  {
   "cell_type": "markdown",
   "metadata": {},
   "source": [
    "11. What's wrong with the following assignment statement? 7 = x\n",
    "\n",
    "7 is being treated as an identifier; 7 is an invalid identifier because it starts with a digit.\n",
    "\n",
    "(x is also being treated as an identifier but that is fine as long as it is defined in the program)"
   ]
  },
  {
   "cell_type": "markdown",
   "metadata": {},
   "source": [
    "![alternative text](assets/prac_test/12.png)\n",
    "![alternative text](assets/prac_test/12a.png)\n",
    "![alternative text](assets/prac_test/12b.png)\n",
    "\n",
    "The variables were switched."
   ]
  },
  {
   "cell_type": "markdown",
   "metadata": {},
   "source": [
    "13. Write an example of a Python comment that includes your name."
   ]
  },
  {
   "cell_type": "code",
   "execution_count": null,
   "metadata": {},
   "outputs": [],
   "source": [
    "# App Project created by \"Your Name\""
   ]
  },
  {
   "cell_type": "markdown",
   "metadata": {},
   "source": [
    "14. In the code below, <u>circle</u> all *keywords* and draw a <u>box</u> around all the *literals*."
   ]
  },
  {
   "cell_type": "code",
   "execution_count": null,
   "metadata": {},
   "outputs": [],
   "source": [
    "def main ():\n",
    "    print(\"This program illustrates a chaotic function\" )\n",
    "    x = 0.42\n",
    "    for i in range (10):\n",
    "        x = 3.9 * x * (1-x)\n",
    "        print(x)"
   ]
  },
  {
   "cell_type": "markdown",
   "metadata": {},
   "source": [
    "- keywords:\n",
    "    - def\n",
    "    - for\n",
    "    - in\n",
    "- literals:\n",
    "    - 0.42\n",
    "    - 10\n",
    "    - 3.9\n",
    "    - 1\n",
    "\n",
    "Notice the IDE highlights them *mostly* the same color"
   ]
  },
  {
   "cell_type": "markdown",
   "metadata": {},
   "source": [
    "![alternative text](assets/prac_test/15.png)"
   ]
  },
  {
   "cell_type": "code",
   "execution_count": null,
   "metadata": {},
   "outputs": [],
   "source": [
    "# fixed code\n",
    "\n",
    "def main():\n",
    "    celsius = 98.6\n",
    "    fahrenheit = 9 / 5 * celsius + 32\n",
    "    print ( \"The temperature is \", fahrenheit, \"degrees Fahrenheit.\")\n",
    "main()"
   ]
  },
  {
   "cell_type": "markdown",
   "metadata": {},
   "source": [
    "Fixed misspelling in \"deff\".\n",
    "\n",
    "fixed declaration of main by adding parentheses \n",
    "\n",
    "Fixed assignment for celsius.\n",
    "\n",
    "Fixed print statement."
   ]
  },
  {
   "cell_type": "code",
   "execution_count": null,
   "metadata": {},
   "outputs": [],
   "source": [
    "# Better practices on how to write the function (some is just my personal preference)\n",
    "\n",
    "def main() -> None:\n",
    "    celsius: float = 98.6\n",
    "    fahrenheit: float = ((9 / 5) * celsius) + 32\n",
    "    print(f\"The temperature is {fahrenheit} degrees Fahrenheit.\")\n",
    "\n",
    "main()"
   ]
  },
  {
   "cell_type": "markdown",
   "metadata": {},
   "source": []
  }
 ],
 "metadata": {
  "kernelspec": {
   "display_name": "Python 3.9.10 64-bit",
   "language": "python",
   "name": "python3"
  },
  "language_info": {
   "name": "python",
   "version": "3.9.10"
  },
  "orig_nbformat": 4,
  "vscode": {
   "interpreter": {
    "hash": "20fa2af333d61bd6339f7e47817f9d242eaf57d6d8e63aa20e75305fa52356f8"
   }
  }
 },
 "nbformat": 4,
 "nbformat_minor": 2
}
