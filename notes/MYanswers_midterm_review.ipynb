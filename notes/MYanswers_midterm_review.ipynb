{
 "cells": [
  {
   "cell_type": "markdown",
   "metadata": {},
   "source": [
    "# Disclaimer\n",
    "These are my answers for the test review. They may be wrong or most not fully correct. If I am not at least ~95% sure on my answer I will make note of it."
   ]
  },
  {
   "cell_type": "markdown",
   "metadata": {},
   "source": [
    "1. A __________ is a machine that stores and manipulates data under the control of a changeable program.\n",
    "- **computer**"
   ]
  },
  {
   "cell_type": "markdown",
   "metadata": {},
   "source": [
    "2. The process of creating software is known as ___________.\n",
    "- **programming**"
   ]
  },
  {
   "cell_type": "markdown",
   "metadata": {},
   "source": [
    "![alternative text](assets/prac_test/3.png)\n",
    "- **This is not going to be on the test**\n",
    "(a-c are interchangeable and sometimes called other things)\n",
    "\n",
    "a. input device\n",
    "b. memory\n",
    "c. output\n",
    "\n",
    "d. - bus"
   ]
  },
  {
   "cell_type": "markdown",
   "metadata": {},
   "source": [
    "4. Which of the following best describes the field of *Computer Science*?\n",
    "\n",
    "A) - The study of what processes can be described using a computer."
   ]
  },
  {
   "cell_type": "markdown",
   "metadata": {},
   "source": [
    "5. Give one example each of hardware and software.\n",
    "\n",
    "(I gave more than one)\n",
    "\n",
    "- *hardware*\n",
    "    - monitor\n",
    "    - keyboard\n",
    "    - mouse\n",
    "    - disk\n",
    "    - CPU\n",
    "\n",
    "- *software*\n",
    "    - Excel\n",
    "    - Word\n",
    "    - File explore\n",
    "    - CMD\n",
    "    - Chrome"
   ]
  },
  {
   "cell_type": "markdown",
   "metadata": {},
   "source": [
    "6. List the four missing stages in the traditional *software development life cycle*.\n",
    "\n",
    "(I do not remember this being talked about it class so it *might* not be on the test)\n",
    "\n",
    "(I am also not sure of this order because most online resources have do not have testing & debugging fifth)\n",
    "\n",
    "1) *Problem analysis*\n",
    "\n",
    "2) ***Software Design***\n",
    "\n",
    "3) ***Software Development / Implementation***\n",
    "\n",
    "5?) ?????\n",
    "\n",
    "5?) *Testing & debugging*\n",
    "\n",
    "6) ***Deployment***"
   ]
  },
  {
   "cell_type": "markdown",
   "metadata": {},
   "source": [
    "7. Is Python a *high-level* language or a *low-level* language? Explain your answer.\n",
    "\n",
    "Python is a high level language because the code is heavily abstracted from machine language. This means that good Python code can be read almost like a sentence."
   ]
  },
  {
   "cell_type": "markdown",
   "metadata": {},
   "source": [
    "8. Briefly explain the difference between *compilation* versus *interpretation*.\n",
    "\n",
    "Languages can be compiled or interpreted (in some cases both depending on how they are used). When a compiled program runs its code, all of the lines must be converted to machine language before any code is ran. However, in an interpreted program, the code is converted to machine language while executing each line. There are various consequences and advantages for each. "
   ]
  },
  {
   "cell_type": "markdown",
   "metadata": {},
   "source": [
    "9. Circle all *valid* Python *identifiers* in the list below.\n",
    "\n",
    "- valid\n",
    "    - cat\n",
    "    - global\n",
    "    - curr_loc\n",
    "    - location7\n",
    "    - PersonCount\n",
    "\n",
    "- invalid\n",
    "    - grade-list (can't have a dash in identifier name)\n",
    "    - 5thElem (can't have a digit starting identifier name)"
   ]
  },
  {
   "cell_type": "code",
   "execution_count": null,
   "metadata": {},
   "outputs": [],
   "source": [
    "# Your IDE will probably catch these mistake\n",
    "\n",
    "grade-list = \"some literal\"\n",
    "\n",
    "5thElem = \"some literal\""
   ]
  },
  {
   "cell_type": "markdown",
   "metadata": {},
   "source": [
    "10. Which <u>one</u> of the following is <u>not</u> a reserved word in Python?\n",
    "\n",
    "c) main\n",
    "\n",
    "Although main is often used to define the main function of a program it is not reserved by python for any special propose."
   ]
  },
  {
   "cell_type": "markdown",
   "metadata": {},
   "source": [
    "11. What's wrong with the following assignment statement? 7 = x\n",
    "\n",
    "7 is being treated as an identifier; 7 is an invalid identifier because it starts with a digit.\n",
    "\n",
    "(x is also being treated as an identifier but that is fine as long as it is defined in the program)"
   ]
  },
  {
   "cell_type": "markdown",
   "metadata": {},
   "source": [
    "![alternative text](assets/prac_test/12.png)\n",
    "\n",
    "![alternative text](assets/prac_test/12a.png)\n",
    "![alternative text](assets/prac_test/12b.png)\n",
    "\n",
    "The variables were switched."
   ]
  },
  {
   "cell_type": "markdown",
   "metadata": {},
   "source": [
    "13. Write an example of a Python comment that includes your name."
   ]
  },
  {
   "cell_type": "code",
   "execution_count": null,
   "metadata": {},
   "outputs": [],
   "source": [
    "# App Project created by \"Your Name\""
   ]
  },
  {
   "cell_type": "markdown",
   "metadata": {},
   "source": [
    "14. In the code below, <u>circle</u> all *keywords* and draw a <u>box</u> around all the *literals*."
   ]
  },
  {
   "cell_type": "code",
   "execution_count": null,
   "metadata": {},
   "outputs": [],
   "source": [
    "def main ():\n",
    "    print(\"This program illustrates a chaotic function\" )\n",
    "    x = 0.42\n",
    "    for i in range (10):\n",
    "        x = 3.9 * x * (1-x)\n",
    "        print(x)"
   ]
  },
  {
   "cell_type": "markdown",
   "metadata": {},
   "source": [
    "- keywords:\n",
    "    - def\n",
    "    - for\n",
    "    - in\n",
    "- literals:\n",
    "    - 0.42\n",
    "    - 10\n",
    "    - 3.9\n",
    "    - 1\n",
    "\n",
    "Notice the IDE highlights them *mostly* the same color"
   ]
  },
  {
   "cell_type": "markdown",
   "metadata": {},
   "source": [
    "![alternative text](assets/prac_test/15.png)"
   ]
  },
  {
   "cell_type": "code",
   "execution_count": null,
   "metadata": {},
   "outputs": [],
   "source": [
    "# fixed code\n",
    "\n",
    "def main():\n",
    "    celsius = 98.6\n",
    "    fahrenheit = 9 / 5 * celsius + 32\n",
    "    print ( \"The temperature is \", fahrenheit, \"degrees Fahrenheit.\")\n",
    "main()"
   ]
  },
  {
   "cell_type": "markdown",
   "metadata": {},
   "source": [
    "Fixed misspelling in \"deff\".\n",
    "\n",
    "fixed declaration of main by adding parentheses \n",
    "\n",
    "Fixed assignment for celsius.\n",
    "\n",
    "Fixed print statement."
   ]
  },
  {
   "cell_type": "code",
   "execution_count": null,
   "metadata": {},
   "outputs": [],
   "source": [
    "# Better practices on how to write the function (some is just my personal preference, dont do this on the test)\n",
    "\n",
    "def main() -> None:\n",
    "    celsius: float = 98.6\n",
    "    fahrenheit: float = ((9 / 5) * celsius) + 32\n",
    "    print(f\"The temperature is {fahrenheit} degrees Fahrenheit.\")\n",
    "\n",
    "main()"
   ]
  },
  {
   "cell_type": "markdown",
   "metadata": {},
   "source": [
    "16. Suppose we are writing a program which requires the user to enter the roster size for a class (which should be an integer). Write an input statement demonstrating the typical way to handle this in Python"
   ]
  },
  {
   "cell_type": "code",
   "execution_count": null,
   "metadata": {},
   "outputs": [],
   "source": [
    "# Full credit answer:\n",
    "\n",
    "roster_size: int = int(input(\"Please the roster size for the class: \"))"
   ]
  },
  {
   "cell_type": "markdown",
   "metadata": {},
   "source": [
    "Grading\n",
    "- 1pt for descriptive variable name (roster_size)\n",
    "- 1pt for converting to int\n",
    "- 1pt for input\n",
    "- 1pt for print in input that tells the user what to do\n",
    "\n",
    "- 1pt for type annotation (: int)\n",
    "    - This probably won't actually be part of the grading but is possible because we did talk about type annotation"
   ]
  },
  {
   "cell_type": "code",
   "execution_count": null,
   "metadata": {},
   "outputs": [],
   "source": [
    "# Above and beyond answer (don't write this on the test for a similar question):\n",
    "\n",
    "try:\n",
    "   roster_size: int = int(input(\"Please the roster size for the class: \"))\n",
    "except ValueError:\n",
    "    raise ValueError(\"Teacher did not input a valid integer\")\n",
    "else:\n",
    "    raise \"Something went terribly wrong\""
   ]
  },
  {
   "cell_type": "markdown",
   "metadata": {},
   "source": [
    "17. Evaluate each expression below writing an equivalent literal value in the space provided next to the expression.\n",
    "\n",
    "a) 5 + 1 * 2 - 7\n",
    "- 0\n",
    "\n",
    "b) 1 + 8 / 2 *3\n",
    "- 13"
   ]
  },
  {
   "cell_type": "code",
   "execution_count": null,
   "metadata": {},
   "outputs": [],
   "source": [
    "print(\"a) \",5 + 1 * 2 - 7)\n",
    "print(\"b) \",1 + 8 / 2 *3)"
   ]
  },
  {
   "cell_type": "markdown",
   "metadata": {},
   "source": [
    "It is interesting to note that because 17b) has division the type is changed to float. However, I do not think that out teacher will doc points for putting 13 instead of 13.0, because float and int's that are the same number have the same value."
   ]
  },
  {
   "cell_type": "code",
   "execution_count": null,
   "metadata": {},
   "outputs": [],
   "source": [
    "a: int = 13\n",
    "b: float = float(13)\n",
    "print(a, b)\n",
    "\n",
    "if a == b:\n",
    "    print(\"Same Value\")\n",
    "\n",
    "if a != b: \n",
    "    print(\"Not the same\")"
   ]
  },
  {
   "cell_type": "markdown",
   "metadata": {},
   "source": [
    "18. How much memory do values of each of Python's basic numeric data types require?\n",
    "\n",
    "- I do not remember talking about this that much in class besides the fact that he said number are stored dynamically meaning they can take up more space in memory if they need. \n",
    "\n",
    "- I found an answer [online](https://code.tutsplus.com/tutorials/understand-how-much-memory-your-python-objects-use--cms-25609) that might be accepted, but I doubt that is what he was getting at with this question. \n",
    "\n",
    "a) int\n",
    "28 bytes \n",
    "\n",
    "b) float\n",
    "24 bytes"
   ]
  },
  {
   "cell_type": "code",
   "execution_count": null,
   "metadata": {},
   "outputs": [],
   "source": [
    "import sys\n",
    "\n",
    "integer_test: int = 5\n",
    "float_test: float = 5.0\n",
    "\n",
    "print(f\"Integer: {sys.getsizeof(integer_test)} bytes\")\n",
    "print(f\"Float: {sys.getsizeof(float_test)} bytes\")"
   ]
  },
  {
   "cell_type": "markdown",
   "metadata": {},
   "source": [
    "19. For floating-point data, there are only a limited number of different values that are representable. What problem can this cause in programs with many calculations?\n",
    "\n",
    "- The lack of precision especially when dealing with very small numbers over many calculations can cause a butterfly which dramatically affects the final result."
   ]
  },
  {
   "cell_type": "markdown",
   "metadata": {},
   "source": [
    "20. List four different names (function or variable) provided by Python's math module.\n",
    "- sqrt\n",
    "- log\n",
    "- log2\n",
    "- log10\n",
    "- min\n",
    "- max"
   ]
  },
  {
   "cell_type": "code",
   "execution_count": null,
   "metadata": {},
   "outputs": [],
   "source": [
    "from math import sqrt, log, log2, log10, min, max"
   ]
  },
  {
   "cell_type": "markdown",
   "metadata": {},
   "source": [
    "![alternative text](assets/prac_test/sample1.png)"
   ]
  },
  {
   "cell_type": "markdown",
   "metadata": {},
   "source": [
    "21. Consider Sample Program #1 in the Appendix. If we run this program, an error will occur on Line #2. What statement is missing from the program, the addition of which would resolve this error?\n",
    "\n",
    "- maxSoFar is being initialized with the value math.inf which requires the math library. This library is not imported in the current code. To import math a line at the top of code can be added:\n",
    "\n",
    "import math"
   ]
  },
  {
   "cell_type": "markdown",
   "metadata": {},
   "source": [
    "22. Convert between decimal and binary numbers as described below.\n",
    "\n",
    "a) What decimal integer corresponds to the byte 1101011?\n",
    "- In my opinion, there is a mistake in this question because a byte is 8 bits while this only has 7. The question should ask reference the byte as 01101011.\n",
    "- Either way the answer is 64 + 32 + 8 + 2 + 1 = **107**\n",
    "\n",
    "b) What sequence of bits represents the decimal number 97\n",
    "- **110 0001**"
   ]
  },
  {
   "cell_type": "markdown",
   "metadata": {},
   "source": [
    "23. What's wrong with the following string literal? 'Garfield\"\n",
    "\n",
    "String literals must be closed with the same ' or \" they are opened with. Since this opens with ' and closes with \", the string will not actually close and cause problems with the rest of the code."
   ]
  },
  {
   "cell_type": "markdown",
   "metadata": {},
   "source": [
    "24. Evaluate each expression below, writing an equivalent literal value in the space provided to the expression.\n",
    "\n",
    "a) \"O \" + \"RLY\" + \"?\"  -->  \"O RLY?\"\n",
    "\n",
    "b) 33.33 + \"%\"  -->  ERROR (TypeError)"
   ]
  },
  {
   "cell_type": "code",
   "execution_count": null,
   "metadata": {},
   "outputs": [],
   "source": [
    "print(\"O \" + \"RLY\" + \"?\")"
   ]
  },
  {
   "cell_type": "code",
   "execution_count": null,
   "metadata": {},
   "outputs": [],
   "source": [
    "print(33.33 + \"%\")"
   ]
  },
  {
   "cell_type": "markdown",
   "metadata": {},
   "source": [
    "25. Write a single print statement using an *escape sequence* that will print the words **Party** and **Time** on separate lines."
   ]
  },
  {
   "cell_type": "code",
   "execution_count": null,
   "metadata": {},
   "outputs": [],
   "source": [
    "print(\"Party\\nTime\")"
   ]
  },
  {
   "cell_type": "markdown",
   "metadata": {},
   "source": [
    "26. Without using single-quotes, write a string literal that, when printed, will produce output like the following: **As you approach, a guard barks, \"Halt!\"**\n",
    "- the answer is only the string literal the printing is just there to show you that it would print the correct statement"
   ]
  },
  {
   "cell_type": "code",
   "execution_count": null,
   "metadata": {},
   "outputs": [],
   "source": [
    "approach_text = \"As you approach, a guard barks, \\\"Halt!\\\"\"\n",
    "print(approach_text)"
   ]
  },
  {
   "cell_type": "markdown",
   "metadata": {},
   "source": [
    "![alternative text](assets/prac_test/sample1.png)"
   ]
  },
  {
   "cell_type": "markdown",
   "metadata": {},
   "source": [
    "27. Consider line #3 of in Sample Program #1 in the Appendix.\n",
    "\n",
    "a) What expression should go in the blank in order to guarantee that we reach the end of the list.\n",
    "- len(nums)\n",
    "\n",
    "b) As written, this code will skip the first number in the list. How do we fix that logic error?\n",
    "- An elegant solution is to set the maxSoFar variable equal to the first index. The for loop will still skip the first index but it would not matter because it will still return the correct value even if the max is the first index. (Also as of right now setting maxSoFar to infinity does not make sense because the function will always return that as the max even if infinity is not in the list)\n",
    "- A different solution is changing the range statement. Either get rid of the \"1, \" or change it to \"0, \"."
   ]
  },
  {
   "cell_type": "markdown",
   "metadata": {},
   "source": [
    "28. Consider line #4 in Sample program #1 in the Appendix. What expression should go in the blank to ensure that the nextNum variable holds each number from the list?\n",
    "- nums[i]"
   ]
  },
  {
   "cell_type": "markdown",
   "metadata": {},
   "source": [
    "29. Supposed that the variable word contains the string \"asparagus write an expression using Python's *slice* syntax that would return the string \"spar\"\n",
    "- word[1:5]"
   ]
  },
  {
   "cell_type": "code",
   "execution_count": null,
   "metadata": {},
   "outputs": [],
   "source": [
    "word = \"asparagus\"\n",
    "print(word[1:5])"
   ]
  },
  {
   "cell_type": "markdown",
   "metadata": {},
   "source": [
    "30. List four different methods (i.e., functions) provided by string and/ or list objects.\n",
    "- find, index, join, split"
   ]
  },
  {
   "cell_type": "markdown",
   "metadata": {},
   "source": [
    "31. Fix the syntax error(s) in the code below re-writing it in the space to the right.\n",
    "\n",
    "![alternative text](assets/prac_test/31.png)"
   ]
  },
  {
   "cell_type": "code",
   "execution_count": null,
   "metadata": {},
   "outputs": [],
   "source": [
    "# Fixing errors\n",
    "def isPassing (score):\n",
    "    if score > 60:\n",
    "        return True\n",
    "    else:\n",
    "        return False"
   ]
  },
  {
   "cell_type": "code",
   "execution_count": null,
   "metadata": {},
   "outputs": [],
   "source": [
    "# how I would write it (don't do something like this on the tets)\n",
    "def is_passing(score: float) -> bool:\n",
    "    return score > 60\n",
    "    # I also feel like pass should be greater than or equal to 60 but whatever"
   ]
  },
  {
   "cell_type": "markdown",
   "metadata": {},
   "source": [
    "32. Study the following code fragment carefully. What value does the grade variable hold after executing this code?\n",
    "- 'C'\n",
    "- make sure to identify it as string with the quotes/ apostrophes"
   ]
  },
  {
   "cell_type": "code",
   "execution_count": null,
   "metadata": {},
   "outputs": [],
   "source": [
    "def determineLetterGrade(score):\n",
    "    if score > 70:\n",
    "        return \"C\"\n",
    "    elif score > 80:\n",
    "        return \"B\"\n",
    "    elif score > 90:\n",
    "        return \"A\"\n",
    "    else:\n",
    "        return \"F\"\n",
    "\n",
    "grade = determineLetterGrade(85)\n",
    "\n",
    "print(grade)"
   ]
  },
  {
   "cell_type": "markdown",
   "metadata": {},
   "source": [
    "33. What are the resulting boolean values of each of the following expressions?\n",
    "\n",
    "a) not (5 != 4)  -->  False\n",
    "\n",
    "b) True and (False or True)  -->  True"
   ]
  },
  {
   "cell_type": "code",
   "execution_count": null,
   "metadata": {},
   "outputs": [],
   "source": [
    "print(not (5 != 4))"
   ]
  },
  {
   "cell_type": "code",
   "execution_count": null,
   "metadata": {},
   "outputs": [],
   "source": [
    "print(True and (False or True))"
   ]
  },
  {
   "cell_type": "markdown",
   "metadata": {},
   "source": [
    "![alternative text](assets/prac_test/34.png)"
   ]
  },
  {
   "cell_type": "markdown",
   "metadata": {},
   "source": [
    ".5\n",
    "\n",
    "1.5\n",
    "\n",
    "2.5\n",
    "\n",
    "3.5"
   ]
  },
  {
   "cell_type": "code",
   "execution_count": null,
   "metadata": {},
   "outputs": [],
   "source": [
    "for n in range(1,9,2):\n",
    "    print(n/2)"
   ]
  },
  {
   "cell_type": "markdown",
   "metadata": {},
   "source": [
    "35. Rewrite the above as a while-loop"
   ]
  },
  {
   "cell_type": "code",
   "execution_count": null,
   "metadata": {},
   "outputs": [],
   "source": [
    "n = 1\n",
    "while n < 9:\n",
    "    print(n/2)\n",
    "    n += 2"
   ]
  },
  {
   "cell_type": "markdown",
   "metadata": {},
   "source": [
    "36. Briefly explain the advantage of using function in program design.\n",
    "- Functions make programs more atomic. This means that parts can be reused for different purposes in an efficient manner with functions."
   ]
  },
  {
   "cell_type": "markdown",
   "metadata": {},
   "source": [
    "![alternative text](assets/prac_test/sample1.png)"
   ]
  },
  {
   "cell_type": "markdown",
   "metadata": {},
   "source": [
    "37. Consider the blank the line #10 of Sample program #1 in the Appendix. Below write the necessary function call, passing an appropriate *argument*, that would ensure the program output correctly indicates the largest number in the list of scores.\n",
    "- maxOf(scores)\n",
    "- unless the code was fixed this is always output infinity"
   ]
  },
  {
   "cell_type": "markdown",
   "metadata": {},
   "source": [
    "![alternative text](assets/prac_test/sample2.png)"
   ]
  },
  {
   "cell_type": "markdown",
   "metadata": {},
   "source": [
    "38. List the names of all variables appearing in Sample Program #2 that have..\n",
    "\n",
    "a) *global scope*\n",
    "- measurements\n",
    "- result\n",
    "\n",
    "b)*local scope*\n",
    "- nums *2 \n",
    "- numEvens\n",
    "- n"
   ]
  },
  {
   "cell_type": "markdown",
   "metadata": {},
   "source": [
    "39. Draw a diagram showing the memory frames for this program when control reach but has not yet executed, <u>**Line #6**</u>"
   ]
  },
  {
   "cell_type": "markdown",
   "metadata": {},
   "source": [
    "![alternative text](assets/prac_test/39ans.png)"
   ]
  }
 ],
 "metadata": {
  "kernelspec": {
   "display_name": "Python 3.9.10 64-bit",
   "language": "python",
   "name": "python3"
  },
  "language_info": {
   "codemirror_mode": {
    "name": "ipython",
    "version": 3
   },
   "file_extension": ".py",
   "mimetype": "text/x-python",
   "name": "python",
   "nbconvert_exporter": "python",
   "pygments_lexer": "ipython3",
   "version": "3.9.10"
  },
  "orig_nbformat": 4,
  "vscode": {
   "interpreter": {
    "hash": "20fa2af333d61bd6339f7e47817f9d242eaf57d6d8e63aa20e75305fa52356f8"
   }
  }
 },
 "nbformat": 4,
 "nbformat_minor": 2
}
