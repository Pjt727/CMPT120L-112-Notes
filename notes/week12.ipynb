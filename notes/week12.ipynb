{
 "cells": [
  {
   "cell_type": "markdown",
   "metadata": {},
   "source": [
    "# Patterns\n"
   ]
  },
  {
   "cell_type": "code",
   "execution_count": null,
   "metadata": {},
   "outputs": [],
   "source": [
    "def if_elem(desired_item, items) -> bool:\n",
    "    for item in items:\n",
    "        if item == desired_item:\n",
    "            return True\n",
    "    return False\n",
    "\n",
    "# if you every wanted something like the above code do the following instead\n",
    "def if_elem_python(desired_item, items) -> bool:\n",
    "    return desired_item in items\n",
    "\n",
    "def pos_of(desired_item, items):\n",
    "    for i, item in enumerate(items):\n",
    "        if item == desired_item:\n",
    "            return i\n",
    "    return None\n",
    "\n",
    "def has_even(nums):\n",
    "    for num in nums:\n",
    "        if num % 2 == 1:\n",
    "            return True\n",
    "    return False\n",
    "\n",
    "def has_odd(nums):\n",
    "    for num in nums:\n",
    "        if num % 2 == 2:\n",
    "            return True\n",
    "    return False"
   ]
  },
  {
   "cell_type": "markdown",
   "metadata": {},
   "source": [
    "## Replacing repetition"
   ]
  },
  {
   "cell_type": "code",
   "execution_count": 3,
   "metadata": {},
   "outputs": [
    {
     "name": "stdout",
     "output_type": "stream",
     "text": [
      "True\n",
      "[12, 14]\n"
     ]
    }
   ],
   "source": [
    "\n",
    "def if_contains(test: callable, items: any) -> bool:\n",
    "    for item in items:\n",
    "        if test(item):\n",
    "            return True\n",
    "    return False\n",
    "\n",
    "def filter(test: callable, items: any) -> list:\n",
    "    passes = []\n",
    "    for item in items:\n",
    "        if test(item):\n",
    "            passes.append(item)\n",
    "    return passes\n",
    "def is_even(num):\n",
    "    return num % 2 == 0\n",
    "\n",
    "nums=[1, 5, 9, 12, 15, 23, 14]\n",
    "print(if_contains(is_even, nums))\n",
    "print(filter(is_even, nums))"
   ]
  },
  {
   "cell_type": "markdown",
   "metadata": {},
   "source": [
    "- However I would look for an inbuilt function that dosew waht you want first because it will likely be faster and more understandable for poeple looking at your code"
   ]
  },
  {
   "cell_type": "code",
   "execution_count": 5,
   "metadata": {},
   "outputs": [
    {
     "name": "stdout",
     "output_type": "stream",
     "text": [
      "[12, 14]\n"
     ]
    }
   ],
   "source": [
    "nums=[1, 5, 9, 12, 15, 23, 14]\n",
    "\n",
    "print(list(filter(lambda num: num % 2 == 0, nums)))\n"
   ]
  },
  {
   "cell_type": "code",
   "execution_count": 10,
   "metadata": {},
   "outputs": [
    {
     "name": "stdout",
     "output_type": "stream",
     "text": [
      "['87.0%', '54.0%', '94.0%', '75.0%', '99.0%']\n"
     ]
    }
   ],
   "source": [
    "# Map fucntion\n",
    "## converting decimal to percentages\n",
    "\n",
    "grades = [.87,.54,.94,.75,.99]\n",
    "percetanges: map = map(lambda n: f\"{n * 100}%\", grades)\n",
    "print(list(percetanges))"
   ]
  }
 ],
 "metadata": {
  "kernelspec": {
   "display_name": "Python 3.10.8 64-bit (microsoft store)",
   "language": "python",
   "name": "python3"
  },
  "language_info": {
   "codemirror_mode": {
    "name": "ipython",
    "version": 3
   },
   "file_extension": ".py",
   "mimetype": "text/x-python",
   "name": "python",
   "nbconvert_exporter": "python",
   "pygments_lexer": "ipython3",
   "version": "3.10.8"
  },
  "orig_nbformat": 4,
  "vscode": {
   "interpreter": {
    "hash": "625a3d0f38ae3cd6f01b852555a2f86928866471dc29ce2b23ca961ca5a13cee"
   }
  }
 },
 "nbformat": 4,
 "nbformat_minor": 2
}
