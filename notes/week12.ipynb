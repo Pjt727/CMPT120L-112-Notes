{
 "cells": [
  {
   "cell_type": "markdown",
   "metadata": {},
   "source": [
    "# Patterns\n"
   ]
  },
  {
   "cell_type": "code",
   "execution_count": null,
   "metadata": {},
   "outputs": [],
   "source": [
    "def if_elem(desired_item, items) -> bool:\n",
    "    for item in items:\n",
    "        if item == desired_item:\n",
    "            return True\n",
    "    return False\n",
    "\n",
    "# if you every wanted something like the above code do the following instead\n",
    "def if_elem_python(desired_item, items) -> bool:\n",
    "    return desired_item in items\n",
    "\n",
    "def pos_of(desired_item, items):\n",
    "    for i, item in enumerate(items):\n",
    "        if item == desired_item:\n",
    "            return i\n",
    "    return None\n",
    "\n",
    "def has_even(nums):\n",
    "    for num in nums:\n",
    "        if num % 2 == 1:\n",
    "            return True\n",
    "    return False\n",
    "\n",
    "def has_odd(nums):\n",
    "    for num in nums:\n",
    "        if num % 2 == 2:\n",
    "            return True\n",
    "    return False"
   ]
  },
  {
   "cell_type": "markdown",
   "metadata": {},
   "source": [
    "## Replacing repetition"
   ]
  },
  {
   "cell_type": "code",
   "execution_count": 3,
   "metadata": {},
   "outputs": [
    {
     "name": "stdout",
     "output_type": "stream",
     "text": [
      "True\n",
      "[12, 14]\n"
     ]
    }
   ],
   "source": [
    "\n",
    "def if_contains(test: callable, items: any) -> bool:\n",
    "    for item in items:\n",
    "        if test(item):\n",
    "            return True\n",
    "    return False\n",
    "\n",
    "def filter(test: callable, items: any) -> list:\n",
    "    passes = []\n",
    "    for item in items:\n",
    "        if test(item):\n",
    "            passes.append(item)\n",
    "    return passes\n",
    "def is_even(num):\n",
    "    return num % 2 == 0\n",
    "\n",
    "nums=[1, 5, 9, 12, 15, 23, 14]\n",
    "print(if_contains(is_even, nums))\n",
    "print(filter(is_even, nums))"
   ]
  },
  {
   "cell_type": "markdown",
   "metadata": {},
   "source": [
    "- However I would look for an inbuilt function that does what you want first because it will likely be faster and more understandable for poeple looking at your code"
   ]
  },
  {
   "cell_type": "code",
   "execution_count": 5,
   "metadata": {},
   "outputs": [
    {
     "name": "stdout",
     "output_type": "stream",
     "text": [
      "[12, 14]\n"
     ]
    }
   ],
   "source": [
    "nums=[1, 5, 9, 12, 15, 23, 14]\n",
    "\n",
    "print(list(filter(lambda num: num % 2 == 0, nums)))\n"
   ]
  },
  {
   "cell_type": "code",
   "execution_count": 16,
   "metadata": {},
   "outputs": [
    {
     "name": "stdout",
     "output_type": "stream",
     "text": [
      "['87.00%', '54.00%', '94.00%', '75.00%', '99.00%']\n",
      "['7.22', '16.67', '0.56', '8.89', '13.89', '15.56', '4.44']\n",
      "['75.00', '103.33', '55.00', '80.00', '95.00', '100.00', '66.67']\n"
     ]
    }
   ],
   "source": [
    "# Map fucntion\n",
    "## converting decimal to percentages\n",
    "## converting temps F to C\n",
    "## converting quiz score to points\n",
    "\n",
    "grades = [.87,.54,.94,.75,.99]\n",
    "percetanges: map = map(lambda n: f\"{n:.2%}\", grades)\n",
    "print(list(percetanges))\n",
    "\n",
    "tempsF = [45,62,33,48,57,60,40]\n",
    "tempsC = map(lambda t: f\"{(t-32)/1.8:.2f}\", tempsF)\n",
    "print(list(tempsC))\n",
    "\n",
    "quizScores = [45,62,33,48,57,60,40]\n",
    "quizPoints = map(lambda s: f\"{100*s/60:.2f}\", quizScores)\n",
    "print(list(quizPoints))"
   ]
  },
  {
   "cell_type": "markdown",
   "metadata": {},
   "source": [
    "- Map can be used to do a certain task for every element in an interable\n",
    "- lambda are often great use cases for map functions"
   ]
  },
  {
   "cell_type": "markdown",
   "metadata": {},
   "source": [
    "## fold\n",
    "- I found [this stack overflow](https://stackoverflow.com/questions/10366374/what-is-the-pythonic-equivalent-to-the-fold-function-from-functional-program) post on **folds**"
   ]
  },
  {
   "cell_type": "code",
   "execution_count": 22,
   "metadata": {},
   "outputs": [
    {
     "name": "stdout",
     "output_type": "stream",
     "text": [
      "345 345\n",
      "604568448000 604568448000\n",
      "apple cattle magma tetrahedron  apple cattle magma tetrahedron \n"
     ]
    }
   ],
   "source": [
    "nums = [45, 62, 33, 48, 57, 60, 40] \n",
    "sum = 0 # initial\n",
    "for n in nums: sum += n # combine\n",
    "\n",
    "prod = 1 # initial\n",
    "for n in nums: prod *= n # combine\n",
    "\n",
    "words = [\"apple\", \"cattle\", \"magma\", \"tetrahedron\"]\n",
    "combined_words = \"\"  # initial\n",
    "for w in words: combined_words += w + \" \" # combine\n",
    "\n",
    "sum_2 = 0 # initial\n",
    "[sum_2 := n + sum_2 for n in nums] # combine\n",
    "print(sum, sum_2)\n",
    "\n",
    "prod_2 = 1 # initial\n",
    "[prod_2 := n * prod_2 for n in nums] # combine\n",
    "print(prod, prod_2)\n",
    "\n",
    "combined_words_2 = \"\" # initial\n",
    "[combined_words_2 := combined_words_2 + w + \" \" for w in words] # combine\n",
    "print(combined_words, combined_words_2)\n"
   ]
  },
  {
   "cell_type": "markdown",
   "metadata": {},
   "source": [
    "- **:=** is a [walrus](https://docs.python.org/3/whatsnew/3.8.html) operator added in python 3.8"
   ]
  }
 ],
 "metadata": {
  "kernelspec": {
   "display_name": "Python 3.10.8 64-bit (microsoft store)",
   "language": "python",
   "name": "python3"
  },
  "language_info": {
   "codemirror_mode": {
    "name": "ipython",
    "version": 3
   },
   "file_extension": ".py",
   "mimetype": "text/x-python",
   "name": "python",
   "nbconvert_exporter": "python",
   "pygments_lexer": "ipython3",
   "version": "3.10.8"
  },
  "orig_nbformat": 4,
  "vscode": {
   "interpreter": {
    "hash": "625a3d0f38ae3cd6f01b852555a2f86928866471dc29ce2b23ca961ca5a13cee"
   }
  }
 },
 "nbformat": 4,
 "nbformat_minor": 2
}
