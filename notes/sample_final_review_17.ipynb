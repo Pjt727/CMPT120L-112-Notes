{
 "cells": [
  {
   "cell_type": "markdown",
   "metadata": {},
   "source": [
    "3. Illustrate the difference between the `pop` and `remove` methods of Python's list by providing two sample statements, one using each method.\n",
    "\n",
    "Pop deletes and returns a given element by index of a list which is by default the last element of the list. Remove, however, deletes a given element by the element itself; there is no default value for deletion and there is no return."
   ]
  },
  {
   "cell_type": "code",
   "execution_count": 1,
   "metadata": {},
   "outputs": [
    {
     "name": "stdout",
     "output_type": "stream",
     "text": [
      "3\n",
      "[1, 2, 4]\n"
     ]
    }
   ],
   "source": [
    "list_pop = [1,2,3,4]\n",
    "\n",
    "p = list_pop.pop(2)\n",
    "print(p)\n",
    "print(list_pop)"
   ]
  },
  {
   "cell_type": "code",
   "execution_count": 3,
   "metadata": {},
   "outputs": [
    {
     "name": "stdout",
     "output_type": "stream",
     "text": [
      "None\n",
      "[1, 3, 4]\n"
     ]
    }
   ],
   "source": [
    "list_remove = [1,2,3,4]\n",
    "\n",
    "p = list_remove.remove(2)\n",
    "print(p)\n",
    "print(list_remove)"
   ]
  },
  {
   "cell_type": "markdown",
   "metadata": {},
   "source": [
    "4. Describe what the `append` and `insert` methods of Python's list class do. Be sure to touch on what inputs are expected for each.\n",
    "\n",
    "Append would add its argument to the end of the list while insert takes two arguments the first describing the index to insert the second argument it takes."
   ]
  },
  {
   "cell_type": "code",
   "execution_count": 6,
   "metadata": {},
   "outputs": [
    {
     "name": "stdout",
     "output_type": "stream",
     "text": [
      "[1, 2, 3, 4, 5]\n"
     ]
    }
   ],
   "source": [
    "list_append = [1,2,3,4]\n",
    "list_append.append(5)\n",
    "print(list_append)"
   ]
  },
  {
   "cell_type": "code",
   "execution_count": 7,
   "metadata": {},
   "outputs": [
    {
     "name": "stdout",
     "output_type": "stream",
     "text": [
      "[1, 2, 3, 5, 4]\n"
     ]
    }
   ],
   "source": [
    "list_insert = [1,2,3,4]\n",
    "list_insert.insert(3, 5)\n",
    "print(list_insert)"
   ]
  },
  {
   "cell_type": "markdown",
   "metadata": {},
   "source": [
    "5. Lines 6-8 of sample program **MyPets1.py** define a loop. Rewrite this loop *without* using the *range* constructor."
   ]
  },
  {
   "cell_type": "code",
   "execution_count": null,
   "metadata": {},
   "outputs": [],
   "source": [
    "# Example 1 \n",
    "# Please never solve this pattern this way outside of the test\n",
    "#   there are multiple problems\n",
    "def main():\n",
    "    petNames = [\"Fido\", \"Bubbles\", \"Harry\"]\n",
    "    legCounts = [4, 0, 8]\n",
    "    totalLegs = 0\n",
    "    for petName in petNames:\n",
    "        i = petNames.index(petName)\n",
    "        print(f\"{petName}, has {legCounts[i]} legs.\")\n",
    "        totalLegs += legCounts[i]\n",
    "    print(f\"All told. my pets have {totalLegs} legs.\")"
   ]
  },
  {
   "cell_type": "code",
   "execution_count": null,
   "metadata": {},
   "outputs": [],
   "source": [
    "# Example 2\n",
    "def main():\n",
    "    petNames = [\"Fido\", \"Bubbles\", \"Harry\"]\n",
    "    legCounts = [4, 0, 8]\n",
    "    totalLegs = 0\n",
    "    for petName, legCount in zip(petNames, legCounts):\n",
    "        print(f\"{petName}, has {legCount} legs.\")\n",
    "        totalLegs += legCount\n",
    "    print(f\"All told. my pets have {totalLegs} legs.\")"
   ]
  },
  {
   "cell_type": "markdown",
   "metadata": {},
   "source": [
    "6. Fill in the missing code to search the player's inventory for the keycard item."
   ]
  },
  {
   "cell_type": "code",
   "execution_count": null,
   "metadata": {},
   "outputs": [],
   "source": [
    "thumbdrive = None\n",
    "cellphone = None\n",
    "keycard = None\n",
    "\n",
    "inventory: list = [ thumbdrive, cellphone, keycard ]\n",
    "if keycard in inventory:\n",
    "    print()"
   ]
  },
  {
   "cell_type": "markdown",
   "metadata": {},
   "source": [
    "7. Consider the initialization of the inventory in the code above. Rewrite that line using correct syntax so that inventory is a python `set` rather than a `list`."
   ]
  },
  {
   "cell_type": "code",
   "execution_count": null,
   "metadata": {},
   "outputs": [],
   "source": [
    "thumbdrive = None\n",
    "cellphone = None\n",
    "keycard = None\n",
    "\n",
    "inventory: set = {thumbdrive, cellphone, keycard}"
   ]
  },
  {
   "cell_type": "markdown",
   "metadata": {},
   "source": [
    "8. Consider sample program MyPets1.py, and suppose that we wish to replace the two separate lists with one Python `dict` that maps each pet name to a corresponding number of legs. Using correct syntax, write such a `dict`."
   ]
  },
  {
   "cell_type": "code",
   "execution_count": null,
   "metadata": {},
   "outputs": [],
   "source": [
    "pet_legs: dict = {\n",
    "    \"Fido\": 4,\n",
    "    \"Bubbles\": 0,\n",
    "    \"Harry\": 8\n",
    "}"
   ]
  },
  {
   "cell_type": "markdown",
   "metadata": {},
   "source": [
    "9. Briefly explain the differences among Python’s `list`, `dict`, and `set` types.\n",
    "\n",
    "A `list` in python is an object which can contain an indefinite number of any type of object. A `dict` is an object which contains a set of key values which must be unique and refer to a value which does not need to be unique. A `set` is a group of elements which must be unique. They are all declared differently."
   ]
  },
  {
   "cell_type": "markdown",
   "metadata": {},
   "source": [
    "10. Describe the concepts of `class` and `object` as they realte to programming. Be sure to clearly explain the difference between the two concepts.\n",
    "\n",
    "A class is a constructor which can generally initialize objects of said class which follow the contruction. "
   ]
  },
  {
   "cell_type": "markdown",
   "metadata": {},
   "source": [
    "11. Suppose we are tasked with writing an application for managing music collections. The application must be able to store individual tracks as well as organize these tracks into albums. The usual information would be stored, such as artist, genre, etc. Consider one class that you would include in the design of this program and at least three attributes\n",
    "for this class. Write a class definition with constructor that illustrates your idea.\n",
    "\n",
    "A `Track` class could have attributues of its artist and genre as well as the album it is in.\n"
   ]
  },
  {
   "cell_type": "code",
   "execution_count": null,
   "metadata": {},
   "outputs": [],
   "source": [
    "class Track:\n",
    "    def __init__(self, artist, genre, album) -> None:\n",
    "        self.artist = artist\n",
    "        self.genre = genre\n",
    "        self.album = album"
   ]
  },
  {
   "cell_type": "markdown",
   "metadata": {},
   "source": [
    "12. Rewrite sample program **MyPets1.py** in the object-oriented style, relying on the `Pet` class from the **Pet.py** module"
   ]
  },
  {
   "cell_type": "code",
   "execution_count": 8,
   "metadata": {},
   "outputs": [
    {
     "name": "stdout",
     "output_type": "stream",
     "text": [
      "Fido has 4 legs.\n",
      "Bubbles has 0 legs.\n",
      "Harry has 8 legs.\n",
      "All told, my pets have 12 legs.\n"
     ]
    }
   ],
   "source": [
    "class Pet:\n",
    "    def __init__(self, name, numLegs):\n",
    "        self.name = name\n",
    "        self.legs = numLegs\n",
    "\n",
    "def main() -> None:\n",
    "    pets: list[Pet] = [Pet(\"Fido\", 4), Pet(\"Bubbles\",0), Pet(\"Harry\", 8)]\n",
    "\n",
    "    totalLegs = 0\n",
    "    for pet in pets:\n",
    "        print(f\"{pet.name} has {pet.legs} legs.\")\n",
    "        totalLegs += pet.legs\n",
    "    print(f\"All told, my pets have {totalLegs} legs.\")\n",
    "\n",
    "if __name__ == \"__main__\":\n",
    "    main()\n"
   ]
  },
  {
   "cell_type": "code",
   "execution_count": null,
   "metadata": {},
   "outputs": [],
   "source": [
    "# MyPets2.py\n",
    "class Pet:\n",
    "    def __init__(self, name, numLegs):\n",
    "        self.name = name\n",
    "        self.legs = numLegs\n",
    "def main():\n",
    "    myPets = []\n",
    "    while input(\"Do you have more pets? \").lower() == \"yes\":\n",
    "        name = input(\"What is the next pet's name? \")\n",
    "        n = int(input(\"How many legs does \" + name + \" have? \"))\n",
    "        nextPet = Pet(name, n)\n",
    "        myPets.append(nextPet)\n",
    "    \n",
    "    if len(myPets) > 2:\n",
    "        print(\"You have a lot of pets.\")\n",
    "    else:\n",
    "        print(\"You sohuld get more pets.\")\n",
    "\n",
    "main()"
   ]
  },
  {
   "cell_type": "markdown",
   "metadata": {},
   "source": [
    "13. Draw a diagram showing the memory frames for sample program MyPets2.py when control reaches, but has not yet executed, Line #4 for the first time. Assume that the user has entered “Fido” and 4 at the two prompts, respectively.\n",
    "\n",
    "![alternative text](assets/prac_final/17-13.png)"
   ]
  },
  {
   "cell_type": "markdown",
   "metadata": {},
   "source": [
    "14. Draw a diagram showing the memory frams fro sample program **MyPets2.py** when control reaches, but has not yet executed, Line #10 *for the second time*. Assume that the user enters \"Bubbles\" and 0 after seeing the prompts for a second time.\n",
    "\n",
    "![alternative text](assets/prac_final/17-14.png)"
   ]
  }
 ],
 "metadata": {
  "kernelspec": {
   "display_name": "Python 3.10.8 64-bit (microsoft store)",
   "language": "python",
   "name": "python3"
  },
  "language_info": {
   "codemirror_mode": {
    "name": "ipython",
    "version": 3
   },
   "file_extension": ".py",
   "mimetype": "text/x-python",
   "name": "python",
   "nbconvert_exporter": "python",
   "pygments_lexer": "ipython3",
   "version": "3.10.8"
  },
  "orig_nbformat": 4,
  "vscode": {
   "interpreter": {
    "hash": "625a3d0f38ae3cd6f01b852555a2f86928866471dc29ce2b23ca961ca5a13cee"
   }
  }
 },
 "nbformat": 4,
 "nbformat_minor": 2
}
