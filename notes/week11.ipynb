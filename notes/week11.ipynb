{
 "cells": [
  {
   "cell_type": "markdown",
   "metadata": {},
   "source": [
    "## OOP / OOD\n",
    "- Object Oriented Programming/ Object Oriented Design\n",
    "\n",
    "### Items in Adventure.py\n",
    "- items might be given for doing certain things at certain locations\n",
    "    - could make this a goal of the game\n",
    "- things the player can find and pickup\n",
    "- data about an item (attributes)\n",
    "    - (is it held/possessed by the player)\n",
    "    - name\n",
    "    - description\n",
    "    - value (sell price)\n",
    "    - is_usable\n",
    "    - number of uses\n",
    "        - I think you should just likely just have multiple item instances instead of having a number of uses\n",
    "- operations on item\n",
    "    - equip \n",
    "    - use\n",
    "\n",
    "### Map - may have certain item instances throughout\n",
    "- Key: Must possess to access certain locales\n",
    "- Cosmetics: Maybe just has value but you can't do anything with it\n",
    "- Gold\n",
    "- Antique State: Has value but you can't do anything with it\n",
    "- Candle: can use it for light, but only a certain number of times\n",
    "\n",
    "### Constraints\n",
    "- Some of these items are usable, and some are not\n",
    "- some items are usable a limited number of times, some indefinitely \n",
    "- Some items gain you acces to other places/things\n",
    "\n",
    "### Design\n",
    "- All of these things are an `Item` object\n",
    "- Some of these items are `Consumable`\n",
    "- Some of the `Consumable` are `Limited` use\n",
    "- This design relies on [class inheritance](https://realpython.com/inheritance-composition-python/)\n"
   ]
  },
  {
   "cell_type": "code",
   "execution_count": 3,
   "metadata": {},
   "outputs": [
    {
     "name": "stdout",
     "output_type": "stream",
     "text": [
      "Worthless: True\n",
      "Spent: False\n",
      "Let there be light\n",
      "Let there be light\n",
      "Let there be light\n",
      "Spent: True\n"
     ]
    }
   ],
   "source": [
    "# Base Class\n",
    "class Item:\n",
    "    def __init__(self, name: str, description: str, value: float = 0):\n",
    "        self.name = name\n",
    "        self.description = description\n",
    "        self.value = value\n",
    "\n",
    "    def set_value(self, new_value: float) -> None:\n",
    "        self.value = new_value\n",
    "    \n",
    "    def is_worthless(self) -> bool:\n",
    "        return self.value == 0\n",
    "\n",
    "\n",
    "# Derived Class\n",
    "class Consumable(Item):\n",
    "    def __init__(self, name: str, description: str, effect: callable, value: float = 0):\n",
    "        # Call the base class constructor first \n",
    "        super().__init__(name, description, value)\n",
    "        self.effect = effect\n",
    "    \n",
    "    def use(self) -> None:\n",
    "        self.effect()\n",
    "\n",
    "\n",
    "# Derived Class A limited item is consumable \n",
    "class Limited(Consumable):\n",
    "    def __init__(self, name: str, description: str, effect: callable, value: float = 0, uses: int = 1):\n",
    "        super().__init__(name, description, effect, value)\n",
    "        self.uses = uses\n",
    "    \n",
    "    def use(self):\n",
    "        if self.is_spent():\n",
    "            return\n",
    "        super().use()\n",
    "        self.uses -= 1\n",
    "\n",
    "    def is_spent(self) -> bool:\n",
    "        return self.uses == 0\n",
    "\n",
    "def illuminate():\n",
    "    print(\"Let there be light\")\n",
    "    pass\n",
    "\n",
    "candle = Limited('Candle', 'Fragrant beeswax', illuminate, uses=3)\n",
    "\n",
    "print(\"Worthless:\", candle.is_worthless())\n",
    "print(\"Spent:\", candle.is_spent())\n",
    "for i in range(3):\n",
    "    candle.use()\n",
    "print(\"Spent:\", candle.is_spent())\n",
    "candle.use()"
   ]
  },
  {
   "cell_type": "markdown",
   "metadata": {},
   "source": [
    "### Terminology\n",
    "- `Consumable` **extends** `Item`, or a `Consumable` \"is an\" `Item` (inheritance)\n",
    "- `Consuamble` **contains** and Effect, or a Usable **has an** effect (composition)\n",
    "- Terms\n",
    "    - parent-child\n",
    "    - super-sub\n",
    "    - base-derived\n",
    "- Polymorphism\n"
   ]
  },
  {
   "cell_type": "markdown",
   "metadata": {},
   "source": []
  },
  {
   "cell_type": "code",
   "execution_count": null,
   "metadata": {},
   "outputs": [],
   "source": []
  }
 ],
 "metadata": {
  "kernelspec": {
   "display_name": "Python 3.10.8 64-bit (microsoft store)",
   "language": "python",
   "name": "python3"
  },
  "language_info": {
   "codemirror_mode": {
    "name": "ipython",
    "version": 3
   },
   "file_extension": ".py",
   "mimetype": "text/x-python",
   "name": "python",
   "nbconvert_exporter": "python",
   "pygments_lexer": "ipython3",
   "version": "3.10.8"
  },
  "orig_nbformat": 4,
  "vscode": {
   "interpreter": {
    "hash": "625a3d0f38ae3cd6f01b852555a2f86928866471dc29ce2b23ca961ca5a13cee"
   }
  }
 },
 "nbformat": 4,
 "nbformat_minor": 2
}
