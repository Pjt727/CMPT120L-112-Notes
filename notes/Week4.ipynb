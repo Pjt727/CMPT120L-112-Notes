{
 "cells": [
  {
   "cell_type": "markdown",
   "metadata": {},
   "source": [
    "## String indexing review"
   ]
  },
  {
   "cell_type": "code",
   "execution_count": null,
   "metadata": {},
   "outputs": [],
   "source": [
    "s = \"A long time ago in a galaxy far, far away...\"\n",
    "\n",
    "print(s[8])\n",
    "print(s[17])\n",
    "print(s[2:11])\n",
    "print(s[:15])\n",
    "print(s[32:])\n",
    "print(s[-11:])"
   ]
  },
  {
   "cell_type": "markdown",
   "metadata": {},
   "source": [
    "## File Storage\n",
    "\n",
    "- Hierachical Organization\n",
    "    - Parents\n",
    "    - Children\n",
    "    - abosolute vs relative\n",
    "\n",
    "## Reading and writing files\n",
    "Anything that is not plain text is called binary files\n"
   ]
  },
  {
   "cell_type": "code",
   "execution_count": null,
   "metadata": {},
   "outputs": [],
   "source": [
    "infile = open(\"path\", \"r\")\n",
    "outfile = open(\"path\", \"w\")\n",
    "\n",
    "# contents as one string (including new lines as '\\n')\n",
    "infile.read()\n",
    "\n",
    "\n",
    "# going through each line\n",
    "\n",
    "for line in infile:\n",
    "    # prints each line of the file (including new lines)\n",
    "    print(line)\n",
    "    first, last = line.split()\n",
    "    # prints firs names of the file to the outfile\n",
    "    print(first, file=outfile)\n",
    "\n",
    "outfile.close()\n",
    "infile.close()"
   ]
  },
  {
   "cell_type": "markdown",
   "metadata": {},
   "source": [
    "##### Example functions\n",
    "\n",
    "###### Getting data or displaying data (I/O)\n",
    "- input\n",
    "    - data we read from outside the program\n",
    "- output\n",
    "    - data we send out of the program\n",
    "\n",
    "###### Function wihtin the program \n",
    "- input (parameter/ argument)\n",
    "    - values that a function needs to do its work\n",
    "- output (Return Value)\n",
    "    - a value that a function produces"
   ]
  },
  {
   "cell_type": "code",
   "execution_count": 5,
   "metadata": {},
   "outputs": [
    {
     "name": "stdout",
     "output_type": "stream",
     "text": [
      "The answer is 17179869185\n",
      "The answer is 17179869185\n"
     ]
    }
   ],
   "source": [
    "def f(num):\n",
    "    return num**2 + 2*num -1\n",
    "\n",
    "def g(num):\n",
    "    return 2**num + 1\n",
    "\n",
    "x = int(input(\"Enter a number\"))\n",
    "y = f(x)\n",
    "ans = g(y)\n",
    "\n",
    "print(f\"The answer is {ans}\")\n",
    "\n",
    "# can replace x with the previous input statement\n",
    "print(f\"The answer is {g(f(x))}\")\n"
   ]
  },
  {
   "cell_type": "code",
   "execution_count": null,
   "metadata": {},
   "outputs": [],
   "source": []
  }
 ],
 "metadata": {
  "kernelspec": {
   "display_name": "Python 3.9.10 64-bit",
   "language": "python",
   "name": "python3"
  },
  "language_info": {
   "codemirror_mode": {
    "name": "ipython",
    "version": 3
   },
   "file_extension": ".py",
   "mimetype": "text/x-python",
   "name": "python",
   "nbconvert_exporter": "python",
   "pygments_lexer": "ipython3",
   "version": "3.9.10"
  },
  "orig_nbformat": 4,
  "vscode": {
   "interpreter": {
    "hash": "20fa2af333d61bd6339f7e47817f9d242eaf57d6d8e63aa20e75305fa52356f8"
   }
  }
 },
 "nbformat": 4,
 "nbformat_minor": 2
}
