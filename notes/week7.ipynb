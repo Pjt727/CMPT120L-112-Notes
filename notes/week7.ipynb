{
 "cells": [
  {
   "cell_type": "markdown",
   "metadata": {},
   "source": [
    "#### Some test review\n",
    "- keyword questions\n",
    "    - continue: keyword\n",
    "    - **print**: not a keyword\n",
    "    - return: keyword\n",
    "    - while: keyword\n",
    "\n",
    "- block / scope\n",
    "    - where a name is visible / usable how long that variable/name exists\n",
    "    - python does this with indentation\n",
    "    - extra indentation does not affect the program (as long as the entire block has the same indentation) but it is bad practice\n"
   ]
  },
  {
   "cell_type": "code",
   "execution_count": null,
   "metadata": {},
   "outputs": [],
   "source": [
    "# List Sum\n",
    "def listSum(numbers):\n",
    "    if not numbers:\n",
    "        return 0\n",
    "    else:   # not part of the if-statement, because it's dedented\n",
    "        (f, rest) = numbers\n",
    "        # recursion\n",
    "        return f + listSum(rest)\n",
    "\n",
    "def main():\n",
    "    myList = (1, (2, (3, None))) # not part of the function, because it's dedented\n",
    "    total = listSum(myList)\n",
    "\n",
    "main()"
   ]
  },
  {
   "cell_type": "markdown",
   "metadata": {},
   "source": [
    "# Dictionaries\n",
    "- A python [dictionary](https://docs.python.org/3/glossary.html#term-dictionary) uses key values as index for elements in an array"
   ]
  },
  {
   "cell_type": "markdown",
   "metadata": {},
   "source": [
    "### Library Book Codes\n",
    "- First letter of the book title\n",
    "- numberic code indicating the category/ classification\n",
    "- .\n",
    "- authors initials\n",
    "    - EX: G123PT\n",
    "\n",
    "### Purpose\n",
    "- Write a program that reads in the book details (title, author, and category) and generate book codes\n",
    "\n",
    "### Question\n",
    "- What are the classification codes?\n",
    "    - Biographical non-fiction => 5\n",
    "    - Historical => 7\n",
    "    - Science fiction/fantasy => 21\n",
    "    - Romance novel => 25\n",
    "    - Mystery/suspense => 28\n",
    "\n",
    "### Program outline\n",
    "- Main function\n",
    "    - get_book_info()  read the book infromation from the user\n",
    "        - (keyboard input)\n",
    "        - normalize case (make everything upper or lower)\n",
    "    - extract_parts()  extract and determine the relevants parts of the book code\n",
    "        - get first letter of book title\n",
    "        - get author's initials\n",
    "        - figure out what number goes with the book category\n",
    "    - generate_code ()\n",
    "        - assemble the library code\n",
    "    - report_code() report the result\n",
    "        - repeat the book info (to confirm)\n",
    "        - show the generated library code assigned to that book\n",
    "    - repeat the process to generate the next book info and its code info"
   ]
  },
  {
   "cell_type": "code",
   "execution_count": null,
   "metadata": {},
   "outputs": [],
   "source": [
    "# referance by category_codes[key]\n",
    "\n",
    "# key: value\n",
    "category_codes = {\n",
    "    'biography': 5,\n",
    "    'history': 7,\n",
    "    'scifi': 21,\n",
    "    'romance': 25,\n",
    "    'mystery': 28\n",
    "}\n",
    "\n",
    "\n",
    "def main() -> None:\n",
    "    pass\n",
    "\n",
    "main()"
   ]
  }
 ],
 "metadata": {
  "kernelspec": {
   "display_name": "Python 3.10.7 64-bit",
   "language": "python",
   "name": "python3"
  },
  "language_info": {
   "name": "python",
   "version": "3.10.7"
  },
  "orig_nbformat": 4,
  "vscode": {
   "interpreter": {
    "hash": "eff942ea804e64611ec727e9e887df9ba32f2144063f751702157502d5c8aaa0"
   }
  }
 },
 "nbformat": 4,
 "nbformat_minor": 2
}
