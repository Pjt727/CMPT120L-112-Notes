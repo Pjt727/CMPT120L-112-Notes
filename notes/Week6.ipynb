{
 "cells": [
  {
   "cell_type": "markdown",
   "metadata": {},
   "source": [
    "## Flow chart notes\n",
    "\n",
    "### Different if statment flow chart\n",
    "![alternative text](assets/if_flow_chart.png)\n",
    "\n",
    "- There a different symbols for different actions\n",
    "\n",
    "    - the rounded rectangles represent an action\n",
    "\n",
    "    - the diamonds represent an [if](https://docs.python.org/3/tutorial/controlflow.html) statment \n",
    "\n",
    "- colors are not normalized, but it is good practice to represent the same type of thing with the same color\n",
    "### Grade flow chart\n",
    "![alterntive text](assets/grade_flow_chart.png)\n",
    "- This flow diagram represents a series of [if](https://docs.python.org/3/tutorial/controlflow.html) and [elifs](https://docs.python.org/3/tutorial/controlflow.html) that ***MUST*** be in that order to get the correct reponse\n",
    "- The previous [if](https://docs.python.org/3/tutorial/controlflow.html) statements (again represented with diamonds) rules out data for the next if statements\n",
    "    - EX: If your grade was an 86 the first test case will return [False](https://docs.python.org/3/library/constants.html?highlight=true#True) and move to the test case, the second test case checks if your grade is above 80 which is [True](https://docs.python.org/3/library/constants.html?highlight=true#False) so the code will assign letter_grade = B and skip the rest of the test cases\n",
    "\n",
    "### While loop flow chart\n",
    "![alterntive text](assets/while_loop.png)\n",
    "- This represents a [while](https://docs.python.org/3/reference/compound_stmts.html#while) loop\n",
    "- Every iteration (each time the [while](https://docs.python.org/3/reference/compound_stmts.html#while) executes the code within it) some logic exists that may either break out of the loop or change the test case in the declaration of the loop."
   ]
  },
  {
   "cell_type": "code",
   "execution_count": 4,
   "metadata": {},
   "outputs": [
    {
     "name": "stdout",
     "output_type": "stream",
     "text": [
      "5\n"
     ]
    }
   ],
   "source": [
    "## Example while loop that changes the test case\n",
    "\n",
    "# initialize_something\n",
    "def test_something(x: int) -> bool:\n",
    "    if x == 5:\n",
    "        return False\n",
    "    else:\n",
    "        return True\n",
    "\n",
    "# initialize_something\n",
    "x: int = 0\n",
    "\n",
    "# test something\n",
    "while test_something(x):\n",
    "\n",
    "    # do_a_task / update_something\n",
    "    # adds 1 to x each iteration\n",
    "    x += 1\n",
    "\n",
    "# do_more_tasks\n",
    "print(x)"
   ]
  },
  {
   "cell_type": "markdown",
   "metadata": {},
   "source": [
    "- The [while](https://docs.python.org/3/reference/compound_stmts.html#while) only breaks once test_something returns [False](https://docs.python.org/3/library/constants.html?highlight=true#True)\n",
    "- The [while](https://docs.python.org/3/reference/compound_stmts.html#while) updates the test case when it adds 1 to x. It is **very important** to make sure that the [while](https://docs.python.org/3/reference/compound_stmts.html#while) will end at some point or it will continously loop through whatever is in the [while](https://docs.python.org/3/reference/compound_stmts.html#while) and never end the program."
   ]
  },
  {
   "cell_type": "code",
   "execution_count": 5,
   "metadata": {},
   "outputs": [
    {
     "name": "stdout",
     "output_type": "stream",
     "text": [
      "5\n"
     ]
    }
   ],
   "source": [
    "## Example while loop that breaks out of the loop instead of updating the test case\n",
    "\n",
    "# initialize_something\n",
    "x: int = 0\n",
    "\n",
    "# This will keep looping through the code\n",
    "while True:\n",
    "    # test something\n",
    "    if x == 5:\n",
    "        break\n",
    "    else:\n",
    "        # do_a_task / update_something\n",
    "        x += 1\n",
    "\n",
    "# do_more_tasks\n",
    "print(x)"
   ]
  },
  {
   "cell_type": "markdown",
   "metadata": {},
   "source": [
    "- The [while](https://docs.python.org/3/reference/compound_stmts.html#while) test case is always [True](https://docs.python.org/3/library/constants.html?highlight=true#False) however there is a different test case within the [while](https://docs.python.org/3/reference/compound_stmts.html#while) statement which is different on each (only needs to be in at least some) iteration which, when [True](https://docs.python.org/3/library/constants.html?highlight=true#False), will break out of the [while](https://docs.python.org/3/reference/compound_stmts.html#while)\n",
    "\n",
    "### Which to use?\n",
    "- both ways of doing [while](https://docs.python.org/3/reference/compound_stmts.html#while) statements are useful\n",
    "- generally [while](https://docs.python.org/3/reference/compound_stmts.html#while) [True](https://docs.python.org/3/library/constants.html?highlight=true#False) would be used when there are multiple test cases that can break out of the loop, and the other [while](https://docs.python.org/3/reference/compound_stmts.html#while) loop is generally used for one main test case\n",
    "    - Still a mix of both may be useful for your situation"
   ]
  },
  {
   "cell_type": "markdown",
   "metadata": {},
   "source": [
    "# 10/7 \n",
    "### Practice 1\n",
    "Write a function that uses a for-loop to search a list for a given element.\n",
    "Then rewrite that function using a while loop instead."
   ]
  },
  {
   "cell_type": "code",
   "execution_count": 6,
   "metadata": {},
   "outputs": [
    {
     "name": "stdout",
     "output_type": "stream",
     "text": [
      "True\n",
      "True\n"
     ]
    }
   ],
   "source": [
    "# for-loop find element\n",
    "\n",
    "\n",
    "def for_loop_find_element(xs, x):\n",
    "    for each_x in xs:\n",
    "        if each_x == x:\n",
    "            return True\n",
    "    return False\n",
    "\n",
    "\n",
    "# while loop find element\n",
    "\n",
    "def while_loop_find_element(xs, x):\n",
    "    i = 0\n",
    "    length = len(xs)\n",
    "    while xs[i] != x:\n",
    "        #checking index\n",
    "        i += 1\n",
    "        if i == length:\n",
    "            return False\n",
    "        \n",
    "    return True\n",
    "\n",
    "test_array = [1,2,3,4,5]\n",
    "test_val = 1\n",
    "\n",
    "print(for_loop_find_element(test_array, test_val))\n",
    "print(while_loop_find_element(test_array, test_val))"
   ]
  },
  {
   "cell_type": "markdown",
   "metadata": {},
   "source": [
    "## Practice 2\n",
    "Write a function that asks the user to selct one of four doors.\n",
    "\n",
    "Prints a message notifying the user about which of four different prizes they win\n",
    "\n",
    "Use a loop to make sure that the user actaully chooses a valid dor numer"
   ]
  },
  {
   "cell_type": "code",
   "execution_count": null,
   "metadata": {},
   "outputs": [],
   "source": [
    "def continually_choose_door(doors):\n",
    "    amt_doors = len(doors)\n",
    "\n",
    "    while True:\n",
    "        try:\n",
    "            door_selection = int(input(f\"Please enter a door 1-{amt_doors}.\"))\n",
    "        except ValueError:\n",
    "            print(f\"That is not an integer. Please try again!\")\n",
    "            continue\n",
    "        if door_selection > 0 and door_selection < 5:\n",
    "            print(f\"In door {door_selection} there is a {doors[door_selection-1]}!\")\n",
    "            break\n",
    "        print(f\"There are only {amt_doors} doors! Pick an integer from 1-{amt_doors}.\")\n",
    "\n",
    "test_doors = ['apple', 'orange', 'grape', 'bannana']\n",
    "\n",
    "continually_choose_door(test_doors)\n",
    "\n",
    "# Prof solutions\n",
    "def game_show_recursion():\n",
    "    choice = input(\"Pick a door from 1-4:\")\n",
    "    # should I convery the input to an int or not?\n",
    "    if choice == \"1\":\n",
    "        print(\"You win a bunny!\")\n",
    "    elif choice ==\"2\":\n",
    "        print(\"You win a new car!\")\n",
    "    elif choice ==\"3\":\n",
    "        print(\"You win six new toasters\")\n",
    "    elif choice == \"4\":\n",
    "        print(\"You win keys to your own theme park\")\n",
    "    else:\n",
    "        print(\"Not a valid door! Try again.\")\n",
    "        game_show_recursion()\n",
    "\n",
    "def game_show_while():\n",
    "    while True:\n",
    "        choice = input(\"Pick a door from 1-4:\")\n",
    "        # should I convery the input to an int or not?\n",
    "        if choice == \"1\":\n",
    "            print(\"You win a bunny!\")\n",
    "        elif choice ==\"2\":\n",
    "            print(\"You win a new car!\")\n",
    "        elif choice ==\"3\":\n",
    "            print(\"You win six new toasters\")\n",
    "        elif choice == \"4\":\n",
    "            print(\"You win keys to your own theme park\")\n",
    "        else:\n",
    "            print(\"Not a valid door! Try again.\")\n",
    "            # gets to the next iteration of the while avoiding the break statement\n",
    "            continue\n",
    "        break"
   ]
  },
  {
   "cell_type": "markdown",
   "metadata": {},
   "source": [
    "## Practice 3\n",
    "Write a function that holds a basic, repetitive conversation\n",
    "\n",
    "SKIPPED"
   ]
  },
  {
   "cell_type": "markdown",
   "metadata": {},
   "source": [
    "# Exam Topic Areas\n",
    "## NOT WRITING A BUNCH OF CODE\n",
    "### Definitions & Terminology:\n",
    "- computer\n",
    "- Computer Science\n",
    "- function parameter and function argument\n",
    "- return value\n",
    "- function\n",
    "- control statement\n",
    "    - those kinds of statemnts that direct flow of the program (if, for, while, break, continue)\n",
    "- variable vs identifier\n",
    "    - identifier is the name of anything (varible, function, class)\n",
    "- data types\n",
    "- binary & bits/bytes\n",
    "    - bytes are 8 bits representing 256 (2^8) different values\n",
    "    - binary is a number system in base 2\n",
    "- escape character\n",
    "    - \\\n",
    "\n",
    "### Python syntax\n",
    "- Which parts are?\n",
    "    - comments\n",
    "    - identifiers\n",
    "    - operators\n",
    "    - keywords\n",
    "    - brackets\n",
    "    - other stuff\n",
    "    - literals\n",
    "        - how to write string literals (double or single quotes) and use escape characters\n",
    "- Rules for statements\n",
    "    - if statment\n",
    "        - if bool:\n",
    "    - indentation\n",
    "\n",
    "### Python semantics \n",
    "- evaluate expression or statements\n",
    "    - \"Hello\" + \"World\"  -->  \"HelloWorld\"\n",
    "    - 3 + \"px\"  -->  VALUE ERROR (just ERROR is fine)\n",
    "    - n = input(\"Enter a num)  --> string value\n",
    "        - therefor cannot be added\n",
    "- recognize errors and maybe fix them\n",
    "\n",
    "### Memory Diagram\n",
    "- given a short program when control reach x line (but has not yet executed)\n",
    "- you need to draw two diagrams\n"
   ]
  },
  {
   "cell_type": "code",
   "execution_count": null,
   "metadata": {},
   "outputs": [],
   "source": [
    "# ex 1\n",
    "print(\"Hello\" + \"World\")"
   ]
  },
  {
   "cell_type": "code",
   "execution_count": null,
   "metadata": {},
   "outputs": [],
   "source": [
    "# ex 2\n",
    "print(3 + \"px\")\n",
    "# error from added int to str"
   ]
  },
  {
   "cell_type": "code",
   "execution_count": null,
   "metadata": {},
   "outputs": [],
   "source": [
    "n = input(\"Enter a num: \")\n",
    "# error bc n is still string and trying to add as well as single = sign for checking whether it is true\n",
    "if n + 1 = 10:\n",
    "    pass"
   ]
  }
 ],
 "metadata": {
  "kernelspec": {
   "display_name": "Python 3.10.7 64-bit",
   "language": "python",
   "name": "python3"
  },
  "language_info": {
   "codemirror_mode": {
    "name": "ipython",
    "version": 3
   },
   "file_extension": ".py",
   "mimetype": "text/x-python",
   "name": "python",
   "nbconvert_exporter": "python",
   "pygments_lexer": "ipython3",
   "version": "3.10.7"
  },
  "orig_nbformat": 4,
  "vscode": {
   "interpreter": {
    "hash": "eff942ea804e64611ec727e9e887df9ba32f2144063f751702157502d5c8aaa0"
   }
  }
 },
 "nbformat": 4,
 "nbformat_minor": 2
}
