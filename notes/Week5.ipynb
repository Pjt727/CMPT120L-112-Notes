{
 "cells": [
  {
   "cell_type": "markdown",
   "metadata": {},
   "source": [
    "##### Search a list to see if it contains some given value\n",
    "- store the value you want to find\n",
    "- loop through each value and check if the stored value is equal to the stored value (in order)\n",
    "\n",
    "\n",
    "#### Naming\n",
    "- functions\n",
    "- - name as verbs\n",
    "- variable\n",
    "- - name as nouns\n",
    "\n",
    "- Arg\n",
    "- - the variables passed to a function\n",
    "\n",
    "- Parameters\n",
    "- - the names of the variable taken by the function to do some work"
   ]
  },
  {
   "cell_type": "code",
   "execution_count": 2,
   "metadata": {},
   "outputs": [
    {
     "name": "stdout",
     "output_type": "stream",
     "text": [
      "True\n"
     ]
    }
   ],
   "source": [
    "val = 'find'\n",
    "arr = ['find','good', 'fired']\n",
    "\n",
    "\n",
    "def find_element(val: object, arr: list[object]) -> bool:\n",
    "    for element in arr:\n",
    "        if element == val:\n",
    "            return True\n",
    "    return False\n",
    "\n",
    "print(find_element(val, arr))\n"
   ]
  },
  {
   "cell_type": "markdown",
   "metadata": {},
   "source": [
    "##### Type Annotation\n",
    "Python does type inference which assumes the datatype of the string.\n",
    "\n",
    "However, it is good practice to do type annotation especially when making functions.\n"
   ]
  },
  {
   "cell_type": "code",
   "execution_count": 2,
   "metadata": {},
   "outputs": [
    {
     "name": "stdout",
     "output_type": "stream",
     "text": [
      "Alice\n"
     ]
    }
   ],
   "source": [
    "# Kattis problem Stones\n",
    "\n",
    "\n",
    "def stone(n: int) -> str:\n",
    "    even_or_odd: int = n % 2\n",
    "\n",
    "    if even_or_odd == 1:\n",
    "        return 'Alice'\n",
    "    return 'Bob'\n",
    "\n",
    "print(stone(5)) "
   ]
  }
 ],
 "metadata": {
  "kernelspec": {
   "display_name": "Python 3.10.7 64-bit",
   "language": "python",
   "name": "python3"
  },
  "language_info": {
   "codemirror_mode": {
    "name": "ipython",
    "version": 3
   },
   "file_extension": ".py",
   "mimetype": "text/x-python",
   "name": "python",
   "nbconvert_exporter": "python",
   "pygments_lexer": "ipython3",
   "version": "3.10.7"
  },
  "orig_nbformat": 4,
  "vscode": {
   "interpreter": {
    "hash": "eff942ea804e64611ec727e9e887df9ba32f2144063f751702157502d5c8aaa0"
   }
  }
 },
 "nbformat": 4,
 "nbformat_minor": 2
}
