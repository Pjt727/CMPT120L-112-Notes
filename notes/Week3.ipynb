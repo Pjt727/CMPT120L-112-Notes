{
 "cells": [
  {
   "cell_type": "markdown",
   "metadata": {},
   "source": [
    "# DataTypes\n",
    "\n",
    "### Numbers\n",
    "1. [int](https://docs.python.org/3/library/functions.html?highlight=int#int), abitrary-precision starting at 4 bytes\n",
    "\n",
    "2. [float](https://docs.python.org/3/library/functions.html?highlight=float#float):\n",
    "    [single-precision](https://en.wikipedia.org/wiki/Single-precision_floating-point_format), [double-precision](https://en.wikipedia.org/wiki/Double-precision_floating-point_format), python uses double\n",
    "3. Can only be as precise as the smallest interval of storage"
   ]
  },
  {
   "cell_type": "markdown",
   "metadata": {},
   "source": [
    "Recursion vs loop"
   ]
  },
  {
   "cell_type": "code",
   "execution_count": 21,
   "metadata": {},
   "outputs": [
    {
     "name": "stdout",
     "output_type": "stream",
     "text": [
      "3628800\n",
      "3628800\n"
     ]
    }
   ],
   "source": [
    "def fac_r(n):\n",
    "\n",
    "    if n == 0:\n",
    "        return 1\n",
    "    else:\n",
    "        return(n * fac_r(n-1))\n",
    "\n",
    "def fac_l(n):\n",
    "    ans = 1\n",
    "    while n > 1:\n",
    "        ans *= n\n",
    "        n -= 1\n",
    "    return ans\n",
    "\n",
    "\n",
    "def main():\n",
    "    num = 10\n",
    "    print(fac_r(num))\n",
    "    print(fac_l(num))\n",
    "\n",
    "if __name__ == '__main__':\n",
    "    main()"
   ]
  },
  {
   "cell_type": "markdown",
   "metadata": {},
   "source": [
    "### Declaring string literals"
   ]
  },
  {
   "cell_type": "code",
   "execution_count": null,
   "metadata": {},
   "outputs": [],
   "source": [
    "str1 = \"I won't be in class today\"\n",
    "str2 = 'I won\\'t be in class today'\n",
    "str3 = 'He said, \"Don\\'t be late.\"'\n",
    "\n",
    "str4= '''\\\n",
    "He said, \"Don't be late.\"\\\n",
    "'''"
   ]
  },
  {
   "cell_type": "markdown",
   "metadata": {},
   "source": [
    "### Strings and Lists\n",
    "Ordered\n",
    "\n",
    "Length\n",
    "\n",
    "indexing sometimes called subscript operator\n",
    "\n",
    "An index is an offset from the start of the string\n",
    "\n",
    "#### Slicing\n",
    "num1:num2\n",
    "\n",
    "Starts at the first index and end at the index of the second number\n",
    "\n",
    "If there is not number then it references the last/first and end index\n",
    "\n",
    "#### Range\n",
    "start is not required\n",
    "\n",
    "range(start, end, step)"
   ]
  },
  {
   "cell_type": "code",
   "execution_count": 13,
   "metadata": {},
   "outputs": [
    {
     "name": "stdout",
     "output_type": "stream",
     "text": [
      "12\n",
      "l\n",
      "Hello, Morld\n",
      "Hello, Morld\n"
     ]
    }
   ],
   "source": [
    "msg = \"Hello, world\"\n",
    "print(len(msg))\n",
    "print(msg[-2])\n",
    "\n",
    "print(msg[:7] + \"M\" + msg[8:])\n",
    "print(msg.replace(\"w\",\"M\"))"
   ]
  },
  {
   "cell_type": "code",
   "execution_count": 1,
   "metadata": {},
   "outputs": [
    {
     "name": "stdout",
     "output_type": "stream",
     "text": [
      "[87, 91, 100, 75, 96]\n",
      "First For loop\n",
      "87\n",
      "91\n",
      "100\n",
      "75\n",
      "96\n",
      "\n",
      "Second For loop\n",
      "87\n",
      "91\n",
      "100\n",
      "75\n",
      "96\n"
     ]
    }
   ],
   "source": [
    "scores = [87, 91, 68, 75, 96]\n",
    "scores[2] = 100\n",
    "print(scores)\n",
    "\n",
    "print(\"First For loop\")\n",
    "for i in range(len(scores)):\n",
    "    print(scores[i])\n",
    "\n",
    "print(\"\\nSecond For loop\")\n",
    "for score in scores:\n",
    "    print(score)"
   ]
  }
 ],
 "metadata": {
  "kernelspec": {
   "display_name": "Python 3.9.10 64-bit",
   "language": "python",
   "name": "python3"
  },
  "language_info": {
   "codemirror_mode": {
    "name": "ipython",
    "version": 3
   },
   "file_extension": ".py",
   "mimetype": "text/x-python",
   "name": "python",
   "nbconvert_exporter": "python",
   "pygments_lexer": "ipython3",
   "version": "3.9.10"
  },
  "orig_nbformat": 4,
  "vscode": {
   "interpreter": {
    "hash": "20fa2af333d61bd6339f7e47817f9d242eaf57d6d8e63aa20e75305fa52356f8"
   }
  }
 },
 "nbformat": 4,
 "nbformat_minor": 2
}
