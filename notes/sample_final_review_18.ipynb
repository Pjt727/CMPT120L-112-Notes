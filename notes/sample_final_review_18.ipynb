{
 "cells": [
  {
   "cell_type": "markdown",
   "metadata": {},
   "source": [
    "# Repetition & Iteration"
   ]
  },
  {
   "cell_type": "markdown",
   "metadata": {},
   "source": [
    "1. Write a `for` loop using `range` that prints one line of text during each iteration so that the output appears exactly as shown to the right."
   ]
  },
  {
   "cell_type": "code",
   "execution_count": 16,
   "metadata": {},
   "outputs": [
    {
     "name": "stdout",
     "output_type": "stream",
     "text": [
      "15\n",
      "30\n",
      "45\n",
      "60\n",
      "75\n"
     ]
    }
   ],
   "source": [
    "# start, end+1, step\n",
    "for num in range(15, 76, 15):\n",
    "    print(num)"
   ]
  },
  {
   "cell_type": "markdown",
   "metadata": {},
   "source": [
    "2. Suppose that the variable occupations is already defined and initialized to be a `list` containing the names of various jobs (as `str`). Write a `for` loop using `range` that prints on separate lines, each job in the list preceded by the *job number*. Job numbers start at 1 and are always 1 more than the list index of the job."
   ]
  },
  {
   "cell_type": "code",
   "execution_count": 17,
   "metadata": {},
   "outputs": [
    {
     "name": "stdout",
     "output_type": "stream",
     "text": [
      "Job 1: doctor\n",
      "Job 2: teacher\n",
      "Job 3: scientist\n",
      "Job 4: professor\n"
     ]
    }
   ],
   "source": [
    "occupations: list[str] = ['doctor', 'teacher', 'scientist', 'professor']\n",
    "\n",
    "for i in range(0, len(occupations)):\n",
    "    print(f\"Job {i + 1}: {occupations[i]}\")"
   ]
  },
  {
   "cell_type": "code",
   "execution_count": 18,
   "metadata": {},
   "outputs": [
    {
     "name": "stdout",
     "output_type": "stream",
     "text": [
      "Job 1: doctor\n",
      "Job 2: teacher\n",
      "Job 3: scientist\n",
      "Job 4: professor\n"
     ]
    }
   ],
   "source": [
    "# how I would actually do something like this (cant because of rules of the question)\n",
    "\n",
    "occupations: list[str] = ['doctor', 'teacher', 'scientist', 'professor']\n",
    "\n",
    "for number, occupation in enumerate(occupations, 1):\n",
    "    print(f\"Job {number}: {occupation}\")"
   ]
  },
  {
   "cell_type": "markdown",
   "metadata": {},
   "source": [
    "3. Write a `while` loop that prints a countdown from 10 to 0. Declare any variable(s) needed to keep track of the counting."
   ]
  },
  {
   "cell_type": "code",
   "execution_count": 19,
   "metadata": {},
   "outputs": [
    {
     "name": "stdout",
     "output_type": "stream",
     "text": [
      "10\n",
      "9\n",
      "8\n",
      "7\n",
      "6\n",
      "5\n",
      "4\n",
      "3\n",
      "2\n",
      "1\n",
      "0\n"
     ]
    }
   ],
   "source": [
    "running_countdown: int = 10\n",
    "while running_countdown >= 0:\n",
    "    print(running_countdown)\n",
    "    running_countdown -= 1"
   ]
  },
  {
   "cell_type": "markdown",
   "metadata": {},
   "source": [
    "# Python Dictionaries"
   ]
  },
  {
   "cell_type": "markdown",
   "metadata": {},
   "source": [
    "Suppose that we are writing a program that must store US average annual salaries for various jobs in the computing industry. Here are some sample data from Glassdoor.com: *Python Programmer*, $73K; *SysAdmin*, $78K; *Java Programmer*, $82K; *Web Developer*, $93K; *Network Engineer*, $112k."
   ]
  },
  {
   "cell_type": "markdown",
   "metadata": {},
   "source": [
    "4. Why is Python's dictionary data type a good choice for this data? *Hint: what restrictions are place on data included in a dictionary that don't apply to lists*?\n",
    "\n",
    "Data within a dictionary is coupled in a useful way. Although a nested array could couple data in the same way, a dictionary allows for the person making the code to explicitly reference values instead of relying on knowing the indexes. A dictionary also has unique key values which means there can not be multiple average for the same type of profession which is useful in this case because it would not make sense to have different averages for the same role. "
   ]
  },
  {
   "cell_type": "markdown",
   "metadata": {},
   "source": [
    "5. Write a Python statement that uses a *literal value* to initialize a dictionary named **jobSalaries** containing the information described above."
   ]
  },
  {
   "cell_type": "code",
   "execution_count": 20,
   "metadata": {},
   "outputs": [],
   "source": [
    "jobSalaries: dict[int] = {\n",
    "    \"Python Programmer\": 73_000,\n",
    "    \"SysAdmin\": 78_000,\n",
    "    \"Java Programmer\": 82_000,\n",
    "    \"Web Developer\": 93_000,\n",
    "    \"Database Administrator\": 93_000,\n",
    "    \"Network Engineer\": 112_000\n",
    "}"
   ]
  },
  {
   "cell_type": "markdown",
   "metadata": {},
   "source": [
    "6. Consider the *for* loop shown below."
   ]
  },
  {
   "cell_type": "code",
   "execution_count": 21,
   "metadata": {},
   "outputs": [
    {
     "name": "stdout",
     "output_type": "stream",
     "text": [
      "Python Programmer\n",
      "SysAdmin\n",
      "Java Programmer\n",
      "Web Developer\n",
      "Database Administrator\n",
      "Network Engineer\n"
     ]
    }
   ],
   "source": [
    "for x in jobSalaries:\n",
    "    print(x)"
   ]
  },
  {
   "cell_type": "markdown",
   "metadata": {},
   "source": [
    "6. a) This loop will print the keys of the dictionary.\n",
    "\n",
    "6. b) The code should be modified to get the values of the keys"
   ]
  },
  {
   "cell_type": "code",
   "execution_count": 22,
   "metadata": {},
   "outputs": [
    {
     "name": "stdout",
     "output_type": "stream",
     "text": [
      "73000\n",
      "78000\n",
      "82000\n",
      "93000\n",
      "93000\n",
      "112000\n"
     ]
    }
   ],
   "source": [
    "# This is the preferred way rather than getting the key and then indexing\n",
    "for salary in jobSalaries.values():\n",
    "    print(salary)"
   ]
  },
  {
   "cell_type": "code",
   "execution_count": 23,
   "metadata": {},
   "outputs": [
    {
     "name": "stdout",
     "output_type": "stream",
     "text": [
      "73000\n",
      "78000\n",
      "82000\n",
      "93000\n",
      "93000\n",
      "112000\n"
     ]
    }
   ],
   "source": [
    "# It is still fine for the test if you do it this way tho\n",
    "for x in jobSalaries:\n",
    "    print(jobSalaries[x])"
   ]
  },
  {
   "cell_type": "markdown",
   "metadata": {},
   "source": [
    "# Functions, Arguments & Return Values"
   ]
  },
  {
   "cell_type": "markdown",
   "metadata": {},
   "source": [
    "7. Write a function of two parameters – a matrix (i.e., list of lists) and a column number (i.e., integer index) – that returns all elements in that column (as a single list). For example, when given the arguments [[1,2,3],[4,5,6],[7,8,9]] and 1, your function returns the value [2,5,8]. *Tips: Use a `for`-loop without range() to iterate over the rows of the matrix and make a local variable for the column to be returned. Your function defnition need not be more than 5-6 lines long.*"
   ]
  },
  {
   "cell_type": "code",
   "execution_count": 24,
   "metadata": {},
   "outputs": [
    {
     "name": "stdout",
     "output_type": "stream",
     "text": [
      "[2, 5, 8]\n"
     ]
    }
   ],
   "source": [
    "# using list comprehension\n",
    "def i_index(matrix: list[list[object]], i: int):\n",
    "    return [l[i] for l in matrix]\n",
    "\n",
    "matrix = [\n",
    "    [1,2,3],\n",
    "    [4,5,6],\n",
    "    [7,8,9]\n",
    "]\n",
    "\n",
    "print(i_index(matrix, 1))"
   ]
  },
  {
   "cell_type": "code",
   "execution_count": 25,
   "metadata": {},
   "outputs": [
    {
     "name": "stdout",
     "output_type": "stream",
     "text": [
      "[2, 5, 8]\n"
     ]
    }
   ],
   "source": [
    "# The way he probably expects\n",
    "def i_index(matrix: list[list[object]], i):\n",
    "    resulting_vals: list[object] = []\n",
    "    for l in matrix:\n",
    "        resulting_vals.append(l[i])\n",
    "    return resulting_vals\n",
    "\n",
    "matrix = [\n",
    "    [1,2,3],\n",
    "    [4,5,6],\n",
    "    [7,8,9]\n",
    "]\n",
    "\n",
    "print(i_index(matrix, 1))"
   ]
  },
  {
   "cell_type": "markdown",
   "metadata": {},
   "source": [
    "8. Suppose we have two other functions already defned – one named sortBigToSmall(), which takes a list and returns a sorted copy of that list, and another named take(), which takes a list and an integer N and returns the frst N values of the list. Write one or more Python statements (depending on your style) that will use these two functions together with the one you wrote above to perform the more complex task of getting the\n",
    "ten largest values from the 3rd column of a matrix of integers named mat."
   ]
  },
  {
   "cell_type": "code",
   "execution_count": 26,
   "metadata": {},
   "outputs": [
    {
     "name": "stdout",
     "output_type": "stream",
     "text": [
      "[22, 9, 8, 7, 5, 5, 3, 3, 2, 2]\n"
     ]
    }
   ],
   "source": [
    "def sortBigToSmall(l: list[object]) -> list[object]:\n",
    "    '''Takes a list and returns sorted copy of that list'''\n",
    "    l_sorted = l.copy()\n",
    "    l_sorted.sort(reverse=True)\n",
    "    return l_sorted\n",
    "\n",
    "def take(num: int, l: list[object]) -> list[object]:\n",
    "    '''Takes an integer N and retuns that first N values of the list'''\n",
    "    return l[0:num]\n",
    "\n",
    "mat: list[list[int]] = [\n",
    "    [1,2,3],\n",
    "    [1,2,1],\n",
    "    [0,0,9],\n",
    "    [0,0,5],\n",
    "    [1,2,3],\n",
    "    [1,2,7],\n",
    "    [0,0,5],\n",
    "    [0,0,2],\n",
    "    [1,2,8],\n",
    "    [1,2,1],\n",
    "    [0,0,22],\n",
    "    [0,0,2],\n",
    "\n",
    "]\n",
    "\n",
    "##### This is all you need to write\n",
    "###\n",
    "mat_col_3 = i_index(mat, 2)\n",
    "mat_col_3_sorted = sortBigToSmall(mat_col_3)\n",
    "mat_col_3_sorted_10 = take(10, mat_col_3_sorted)\n",
    "###\n",
    "\n",
    "print(mat_col_3_sorted_10)"
   ]
  },
  {
   "cell_type": "markdown",
   "metadata": {},
   "source": [
    "# Classes & Objects"
   ]
  },
  {
   "cell_type": "markdown",
   "metadata": {},
   "source": [
    "9. In your own words, explain the terms `class` and *instance* as related to object-oriented programming. Be sure to clearly explain the difference between the two concepts.\n",
    "\n",
    "A class is a constructor which describes how instances of said class will be initilized and behave. In other words a class can have a instance of itself created which will follows the class's construction. "
   ]
  },
  {
   "cell_type": "code",
   "execution_count": 27,
   "metadata": {},
   "outputs": [],
   "source": [
    "# Pet.py\n",
    "class Pet:\n",
    "    def __init__(self, name) -> None:\n",
    "        self.name = name\n",
    "        self.commands = [] # apparently this is not a list of callable like I though it would be\n",
    "    \n",
    "    def train(self, newCmd):\n",
    "        if newCmd in self.commands:\n",
    "            print(self.name, \"already knows\", newCmd)\n",
    "        else:\n",
    "            self.commands.append(newCmd); # why did he put a semicolon\n",
    "            print(self.name, \"has learned\", newCmd)"
   ]
  },
  {
   "cell_type": "code",
   "execution_count": 28,
   "metadata": {},
   "outputs": [
    {
     "name": "stdout",
     "output_type": "stream",
     "text": [
      "Fido has learned sit\n",
      "Fido has learned fetch\n",
      "Boots has learned pounce\n"
     ]
    }
   ],
   "source": [
    "# MyPets.py\n",
    "# from Pet import Pet\n",
    "\n",
    "def main():\n",
    "    dog = Pet(\"Fido\")\n",
    "    dog.train(\"sit\")\n",
    "    dog.train(\"fetch\")\n",
    "\n",
    "    cat = Pet(\"Boots\")\n",
    "    cat.train(\"pounce\")\n",
    "\n",
    "main()"
   ]
  },
  {
   "cell_type": "markdown",
   "metadata": {},
   "source": [
    "10. Fill in the missing code for the **Pet.py** module and **MyPets.py** program.\n",
    "\n",
    "A) Pet.py:5 - self\n",
    "\n",
    "B) Pet.py:6 - in\n",
    "\n",
    "C) Pet.py:9 - append\n",
    "\n",
    "D) MyPet.py:1 - from Pet import Pet"
   ]
  },
  {
   "cell_type": "markdown",
   "metadata": {},
   "source": [
    "11. On blank page 5, draw a diagram illustrating the state of the memory space for sample program **MyPets.py** when control reachers, but has not yet executed, Line #4 of that same file.\n",
    "\n",
    "![alternative text](assets/prac_final/18-11.png)\n",
    "\n",
    "There might be so leeway with this question because we have not talked about how memory diagrams work when importing"
   ]
  },
  {
   "cell_type": "markdown",
   "metadata": {},
   "source": [
    "12. On blank page 6, draw a diagram illustrating the state of the memory space for sample program **MyPets.py** when control reachers, but has not yet executed, **Line #10** of the **Pet.py** module *for the third time*\n",
    "\n",
    "![alternative text](assets/prac_final/18-12.png)\n",
    "\n",
    "There might be so leeway with this question because we have not talked about how memory diagrams work when importing. As well as the fact that this memory diagram is fairly complex."
   ]
  }
 ],
 "metadata": {
  "kernelspec": {
   "display_name": "Python 3.10.8 64-bit (microsoft store)",
   "language": "python",
   "name": "python3"
  },
  "language_info": {
   "codemirror_mode": {
    "name": "ipython",
    "version": 3
   },
   "file_extension": ".py",
   "mimetype": "text/x-python",
   "name": "python",
   "nbconvert_exporter": "python",
   "pygments_lexer": "ipython3",
   "version": "3.10.8"
  },
  "orig_nbformat": 4,
  "vscode": {
   "interpreter": {
    "hash": "625a3d0f38ae3cd6f01b852555a2f86928866471dc29ce2b23ca961ca5a13cee"
   }
  }
 },
 "nbformat": 4,
 "nbformat_minor": 2
}
