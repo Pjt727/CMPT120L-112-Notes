{
 "cells": [
  {
   "cell_type": "markdown",
   "metadata": {},
   "source": [
    "## Tic-Tac-Toe Game Example\n",
    "\n",
    "### Data / Information\n",
    "- Player\n",
    "    - Whose turns is it?\n",
    "    - Who owns/marked each cell\n",
    "        - what that symbol is\n",
    "    - Which person ones\n",
    "- Board\n",
    "    - square/grid\n",
    "    - 3x3 cells\n",
    "\n",
    "#### Data Types\n",
    "- Reprsenting player 1 and 2\n",
    "    - str: \"X\" \"O\"\n",
    "    - bool: \"True \"False\"\n",
    "    - int: 1 2\n",
    "    - list: (*players)\n",
    "        - players can be represented by str or int, or even player objects\n",
    "- Representing the board\n",
    "    - 2D list/matrix"
   ]
  },
  {
   "cell_type": "code",
   "execution_count": null,
   "metadata": {},
   "outputs": [],
   "source": [
    "# top down design\n",
    "\n",
    "def setup_board(size) -> list:\n",
    "    pass\n",
    "\n",
    "def show_board(board) -> None:\n",
    "    pass\n",
    "\n",
    "def show_row(row) -> None:\n",
    "    pass\n",
    "\n",
    "def show_border() -> None:\n",
    "    pass\n",
    "\n",
    "# Would need more or less dimensiosn if it is not a 2D game\n",
    "def get_move() -> tuple(int, int):\n",
    "    pass\n",
    "\n",
    "def interpret_move() -> None:\n",
    "    pass\n",
    "\n",
    "def move(player, board) -> None:\n",
    "    pass\n",
    "\n",
    "# if you want to return the type of win then this function will need to return more\n",
    "def game_over(player, board) -> bool:\n",
    "    pass\n",
    "\n",
    "\n",
    "def main() -> None:\n",
    "    pass\n",
    "\n",
    "main()"
   ]
  }
 ],
 "metadata": {
  "kernelspec": {
   "display_name": "Python 3.10.8 64-bit (microsoft store)",
   "language": "python",
   "name": "python3"
  },
  "language_info": {
   "codemirror_mode": {
    "name": "ipython",
    "version": 3
   },
   "file_extension": ".py",
   "mimetype": "text/x-python",
   "name": "python",
   "nbconvert_exporter": "python",
   "pygments_lexer": "ipython3",
   "version": "3.10.8"
  },
  "orig_nbformat": 4,
  "vscode": {
   "interpreter": {
    "hash": "625a3d0f38ae3cd6f01b852555a2f86928866471dc29ce2b23ca961ca5a13cee"
   }
  }
 },
 "nbformat": 4,
 "nbformat_minor": 2
}
