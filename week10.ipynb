{
 "cells": [
  {
   "cell_type": "markdown",
   "metadata": {},
   "source": [
    "## OOP programming\n",
    "\n",
    "#### Examples\n",
    "- fractions\n",
    "    - numerator, denominator\n",
    "- student information\n",
    "- TicTacToe Board"
   ]
  },
  {
   "cell_type": "markdown",
   "metadata": {},
   "source": [
    "#### Fractions\n",
    "- Data abstraction\n",
    "    - representation\n",
    "        - how this will be done (implementation)\n",
    "        - the order of the bytes in the machine does not matter as long as the machine can still interpret it\n",
    "    - interface\n",
    "        - what a thing is\n",
    "        - operations (or methods) we can preform with the data\n",
    "        - should be stable\n",
    "    - Abstraction boundary\n",
    "        - separation of representation and the interface"
   ]
  },
  {
   "cell_type": "code",
   "execution_count": 10,
   "metadata": {},
   "outputs": [
    {
     "name": "stdout",
     "output_type": "stream",
     "text": [
      "frac1 reduced:  3 / 4\n",
      "fracs multipled:  3 / 10\n",
      "fracs added:  23 / 20\n"
     ]
    }
   ],
   "source": [
    "# without using object oriented programming\n",
    "from math import gcd\n",
    "\n",
    "a, b = 6,8\n",
    "\n",
    "c, d = 2, 5\n",
    "\n",
    "def frac_to_str(numer, denom):\n",
    "    return f'{numer} / {denom}'\n",
    "\n",
    "def reduce(numer, denom):\n",
    "    g = gcd(numer, denom)\n",
    "    return numer // g, denom // g\n",
    "r= reduce(a, b)\n",
    "print(\"frac1 reduced: \", frac_to_str(r[0], r[1]))\n",
    "\n",
    "def frac_mult(numer1, denom1, numer2, denom2):\n",
    "    return reduce(numer1 * numer2, denom1 * denom2)\n",
    "\n",
    "def frac_add(numer1, denom1, numer2, denom2):\n",
    "    return reduce(numer1*denom2 + numer2 * denom1, denom1 * denom2)\n",
    "\n",
    "x = frac_mult(a, b, c, d)\n",
    "y = frac_add(a, b, c, d)\n",
    "\n",
    "print(\"fracs multipled: \", frac_to_str(x[0], x[1]))\n",
    "print(\"fracs added: \", frac_to_str(y[0], y[1]))"
   ]
  },
  {
   "cell_type": "markdown",
   "metadata": {},
   "source": [
    "This solution is bad because it using a lot of pararmeters. This is error prone especially when using postional arguments. Without using OOP (object oriented programming) one might htink to represent each number as a tuple. This reduces the number of arguemnts but OOP would eventually even further reduce the amount of parameters needed. Also, the implementation is not as readable which will make it harder to debug/ understand. It is also not intuitive to think of numer and denom as index 0 and index 1 respectively."
   ]
  },
  {
   "cell_type": "code",
   "execution_count": 11,
   "metadata": {},
   "outputs": [
    {
     "name": "stdout",
     "output_type": "stream",
     "text": [
      "Addition: 6/23\n",
      "Multiplication: 3/10\n"
     ]
    }
   ],
   "source": [
    "# class structure\n",
    "from math import gcd\n",
    "# Adds type annotation within the scope of the class\n",
    "from __future__ import annotations\n",
    "\n",
    "class Fraction:\n",
    "    def __init__(self, denom: int, numer: int):\n",
    "        self.denom = denom\n",
    "        self.numer = numer\n",
    "    \n",
    "    def reduce(self) -> None:\n",
    "        g = gcd(self.numer, self.denom)\n",
    "        self.numer //= g\n",
    "        self.denom //= g\n",
    "    \n",
    "    def add(self, addend: Fraction) -> Fraction:\n",
    "        sum = Fraction(self.numer*addend.denom + addend.numer*self.denom, self.denom*addend.denom)\n",
    "        sum.reduce()\n",
    "        return sum\n",
    "    \n",
    "    def mult(self, multiplier: Fraction) -> Fraction:\n",
    "        product = Fraction(self.numer*multiplier.numer, self.denom*multiplier.denom)\n",
    "        product.reduce()\n",
    "        return product\n",
    "\n",
    "    # Python goes to this function or __repr__ when converting your object to str when\n",
    "    #   doing something like a print statement\n",
    "    def __str__(self) -> str:\n",
    "        return f'{self.numer}/{self.denom}'\n",
    "\n",
    "# type annotations are redundant here\n",
    "frac1: Fraction = Fraction(6,8)\n",
    "frac2: Fraction  = Fraction(2, 5)\n",
    "\n",
    "\n",
    "print('Addition:', frac1.add(frac2))\n",
    "print('Multiplication:', frac1.mult(frac2))\n",
    "\n",
    "\n"
   ]
  },
  {
   "cell_type": "markdown",
   "metadata": {},
   "source": [
    "#### Student example OOP\n",
    "- Need to think about the instance varibles and methods as well as the type they will be/ output\n",
    "- What are the instance variables? These are often nouns.\n",
    "- What are the methods? These are often the verbs. Some nouns represent\n",
    "- Methods can be data that changes and also can be automatically computed from other data"
   ]
  },
  {
   "cell_type": "code",
   "execution_count": 4,
   "metadata": {},
   "outputs": [
    {
     "name": "stdout",
     "output_type": "stream",
     "text": [
      "# Student #\n",
      "Name: Jim Bob\n",
      "Birthdate: 2004-05-17\n",
      "CWID: 2\n",
      "\n"
     ]
    }
   ],
   "source": [
    "from datetime import date\n",
    "\n",
    "class Student:\n",
    "    '''Represent institutional information about a student at the college'''\n",
    "\n",
    "    NEXT_CWID: int = 1\n",
    "\n",
    "    # Instead of doing it this way this would be the perfect implementation of generators\n",
    "    def new_cwid():\n",
    "        '''Staic/class method to generate the next CWID'''\n",
    "        cwid = Student.NEXT_CWID\n",
    "        Student.NEXT_CWID += 1\n",
    "        return cwid\n",
    "\n",
    "    def __init__(self, name, birthdate, major='Undecided'):\n",
    "        ''' Contructor for intitializing a new Student instance '''\n",
    "        self.name: str = name\n",
    "        self.birthdate: date = birthdate\n",
    "        self.major: str = major\n",
    "        self.credits_earned = 0 \n",
    "        self.cwid: int = Student.new_cwid()\n",
    "    \n",
    "    def __str__(self):\n",
    "        rep = \"# Student #\\n\"\n",
    "        rep += f\"Name: {self.name}\\n\"\n",
    "        rep += f\"Birthdate: {self.birthdate}\\n\"\n",
    "        rep += f\"CWID: {self.cwid}\\n\"\n",
    "        return rep\n",
    "    \n",
    "    def classification(self) -> str:\n",
    "        if self.credits_earned >= 90:\n",
    "            return 'senior'\n",
    "        elif self.credits_earned >= 60:\n",
    "            return 'junior'\n",
    "        elif self.credits_earned >= 30:\n",
    "            return 'sophomore'\n",
    "        return 'freshmen'\n",
    "    \n",
    "    def age(self):\n",
    "        return #TODO\n",
    "    \n",
    "    def gpa(self):\n",
    "        return #TODO\n",
    "\n",
    "# Positional Arguments\n",
    "stu = Student(\"Jim Bob\", date(2004, 5, 17), 'Comp Sci')\n",
    "\n",
    "# Name Arguments\n",
    "stu = Student(birthdate=date(2004, 5, 17), name=\"Jim Bob\", major='Comp Sci')\n",
    "\n",
    "print(stu)"
   ]
  }
 ],
 "metadata": {
  "kernelspec": {
   "display_name": "Python 3.10.8 64-bit (microsoft store)",
   "language": "python",
   "name": "python3"
  },
  "language_info": {
   "codemirror_mode": {
    "name": "ipython",
    "version": 3
   },
   "file_extension": ".py",
   "mimetype": "text/x-python",
   "name": "python",
   "nbconvert_exporter": "python",
   "pygments_lexer": "ipython3",
   "version": "3.10.8"
  },
  "orig_nbformat": 4,
  "vscode": {
   "interpreter": {
    "hash": "625a3d0f38ae3cd6f01b852555a2f86928866471dc29ce2b23ca961ca5a13cee"
   }
  }
 },
 "nbformat": 4,
 "nbformat_minor": 2
}
